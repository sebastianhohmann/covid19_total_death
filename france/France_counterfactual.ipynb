{
 "cells": [
  {
   "cell_type": "code",
   "execution_count": 1,
   "metadata": {},
   "outputs": [
    {
     "name": "stderr",
     "output_type": "stream",
     "text": [
      "/home/seb/py36/lib/python3.6/site-packages/statsmodels/tools/_testing.py:19: FutureWarning: pandas.util.testing is deprecated. Use the functions in the public API at pandas.testing instead.\n",
      "  import pandas.util.testing as tm\n"
     ]
    }
   ],
   "source": [
    "import numpy as np\n",
    "import pandas as pd\n",
    "import matplotlib.pyplot as plt\n",
    "import matplotlib as mpl\n",
    "plt.style.use('seaborn')\n",
    "mpl.rcParams['font.family'] = 'serif'\n",
    "import seaborn as sns\n",
    "%matplotlib inline"
   ]
  },
  {
   "cell_type": "markdown",
   "metadata": {},
   "source": [
    "This notebook shows how to construct the number of excess deaths (relative to a counterfactual 2020) from INSEE data on total deaths. It then compares these excess deaths to the counterfactual including Covid-19 deaths.\n",
    "\n",
    "- The source for the INSEE data on total deaths is https://www.insee.fr/fr/information/4470857 for 2020, 2019 and 2018. For years up tp 2018, data are here: https://www.insee.fr/fr/statistiques/4204054?sommaire=4204068#consulter-sommaire $\\to$ \"T79JDEC – Répartition quotidienne des décès (Séries depuis 1968 pour la France métropolitaine, 1998 pour la France entière)\"\n",
    "\n",
    "- The source for the official Covid-19 deaths is https://dashboard.covid19.data.gouv.fr/\n",
    "\n",
    "**NOTE** The first version of the analysis for France (see the commit history of the repository) had only used data for 2018, 2019, 2020. Here we are using data since 2015. Note also that the earlier version for data on total deaths for 2020 and 2019 excluded the Département of Bouches-du-Rhône, which contains the city of Marseilles. This current version of includes data from all the Départments. "
   ]
  },
  {
   "cell_type": "markdown",
   "metadata": {},
   "source": [
    "# 1) Processing the INSEE data"
   ]
  },
  {
   "cell_type": "markdown",
   "metadata": {},
   "source": [
    "## 1.1) Up to 2018"
   ]
  },
  {
   "cell_type": "code",
   "execution_count": 2,
   "metadata": {},
   "outputs": [],
   "source": [
    "def convert_months(month):\n",
    "    \n",
    "    months = {}\n",
    "    months['Août'] = '08'\n",
    "    months['Avril'] = '04'\n",
    "    months['Décembre'] = '12'\n",
    "    months['Février'] = '02'\n",
    "    months['Janvier'] = '01'\n",
    "    months['Juillet'] = '07'\n",
    "    months['Juin'] = '06'\n",
    "    months['Mai'] = '05'\n",
    "    months['Mars'] = '03'\n",
    "    months['Novembre'] = '11'\n",
    "    months['Octobre'] = '10'\n",
    "    months['Septembre'] = '09'\n",
    "    \n",
    "    return months[month]"
   ]
  },
  {
   "cell_type": "code",
   "execution_count": 3,
   "metadata": {},
   "outputs": [],
   "source": [
    "def process_sheet(sheet_name):\n",
    "    \n",
    "    df = pd.read_excel('./total_deaths/T79JDEC.xls', sheet_name=sheet_name, skiprows=3)\n",
    "    df = df.iloc[1:-1,:-1].reset_index(drop=True).copy(deep=True)\n",
    "    df = df.replace('so', np.nan)\n",
    "    df.columns = ['ANNEE'] + list(df.columns[1:])\n",
    "    df['ANNEE'] = df['ANNEE'].fillna(method='ffill')\n",
    "    df.index = [df.ANNEE, df.JOUR]\n",
    "    df = df.drop(['ANNEE', 'JOUR'], axis=1)\n",
    "    df = pd.DataFrame(df.stack())\n",
    "    df.reset_index(inplace=True)\n",
    "    df.columns = ['annee', 'mois', 'jour', 'deces']\n",
    "    df.index = [df.mois, df.jour, df.annee]\n",
    "    df = df.drop(['mois', 'jour', 'annee'], axis=1)\n",
    "    df = df.unstack()\n",
    "    df.reset_index(inplace=True)\n",
    "    df.columns = df.columns.droplevel()\n",
    "    df.columns = ['mois', 'day'] + list(df.columns[2:])\n",
    "    df['month'] = df.mois.apply(lambda x: convert_months(x))\n",
    "    del df['mois']\n",
    "    df = df.iloc[:,[-1, 0] + list(range(1,df.shape[1]-1))]\n",
    "    df = df.sort_values(by=['month', 'day']).reset_index(drop=True).copy(deep=True)\n",
    "    df = df[['month', 'day'] + ['{}'.format(yr) for yr in range(2015, 2019)]]\n",
    "    df = df[df.month=='03'].reset_index(drop=True)\n",
    "    for yr in range(2015, 2019):\n",
    "        df['{}'.format(yr)] = df['{}'.format(yr)].cumsum()\n",
    "    \n",
    "    return df    "
   ]
  },
  {
   "cell_type": "markdown",
   "metadata": {},
   "source": [
    "\"FE\" = France Entiere. "
   ]
  },
  {
   "cell_type": "code",
   "execution_count": 4,
   "metadata": {},
   "outputs": [],
   "source": [
    "fe = process_sheet('FE')\n",
    "fe.columns = ['month', 'day'] + ['{}'.format(yr) for yr in range(2015, 2019)]"
   ]
  },
  {
   "cell_type": "markdown",
   "metadata": {},
   "source": [
    "## 1.2) 2019-2020"
   ]
  },
  {
   "cell_type": "code",
   "execution_count": 5,
   "metadata": {},
   "outputs": [],
   "source": [
    "df = pd.read_csv('./total_deaths/total_deaths_france.csv')\n",
    "df['day'] = np.arange(1,32).astype('str')\n",
    "df['day'] = ('0' + df['day']).str[-2:]\n",
    "df['month'] = '03'\n",
    "del df['date']\n",
    "df = df[['month', 'day', '2019', '2020']]\n",
    "df = pd.merge(fe, df,  on=['month', 'day'], how='outer')"
   ]
  },
  {
   "cell_type": "code",
   "execution_count": 6,
   "metadata": {},
   "outputs": [],
   "source": [
    "df = df[~pd.isnull(df['2020'])].reset_index(drop=True).copy(deep=True)"
   ]
  },
  {
   "cell_type": "markdown",
   "metadata": {},
   "source": [
    "computing daily growth rates for each year 2015-2019"
   ]
  },
  {
   "cell_type": "code",
   "execution_count": 7,
   "metadata": {},
   "outputs": [],
   "source": [
    "for yr in range(2015, 2020):\n",
    "    df['gr_{}'.format(yr)] = df['{}'.format(yr)] / df['{}'.format(yr)].shift(1)\n",
    "    del df['{}'.format(yr)]"
   ]
  },
  {
   "cell_type": "markdown",
   "metadata": {},
   "source": [
    "computing mean of the daily growth rates"
   ]
  },
  {
   "cell_type": "code",
   "execution_count": 8,
   "metadata": {},
   "outputs": [],
   "source": [
    "df['daily_growth'] = df.loc[:,['gr_{}'.format(yr) for yr in range(2015,2020)]].mean(axis=1)\n",
    "df = df[['month', 'day', '2020', 'daily_growth']].copy(deep=True)"
   ]
  },
  {
   "cell_type": "markdown",
   "metadata": {},
   "source": [
    "extrapolating forward"
   ]
  },
  {
   "cell_type": "code",
   "execution_count": 9,
   "metadata": {},
   "outputs": [],
   "source": [
    "df['counterfactual_2020'] = 0\n",
    "df.loc[0,'counterfactual_2020'] = df.loc[df.day=='01', '2020'].values[0]"
   ]
  },
  {
   "cell_type": "code",
   "execution_count": 10,
   "metadata": {},
   "outputs": [],
   "source": [
    "for i in range(1, df.shape[0]):\n",
    "    df.loc[i,'counterfactual_2020'] = df.loc[i-1,'counterfactual_2020'] * df.loc[i,'daily_growth']\n",
    "df = df.drop(['daily_growth'], axis=1)"
   ]
  },
  {
   "cell_type": "markdown",
   "metadata": {},
   "source": [
    "creating a date column"
   ]
  },
  {
   "cell_type": "code",
   "execution_count": 11,
   "metadata": {},
   "outputs": [],
   "source": [
    "df['date'] = '2020-' + df.month + '-' + df.day\n",
    "df['date']  =  pd.to_datetime(df['date'] , format='%Y%m%d', errors='ignore')\n",
    "df = df[['date', '2020', 'counterfactual_2020']].reset_index(drop=True).copy(deep=True)"
   ]
  },
  {
   "cell_type": "markdown",
   "metadata": {},
   "source": [
    "# 2) Processing the official covid data from Santé Publique France"
   ]
  },
  {
   "cell_type": "code",
   "execution_count": 12,
   "metadata": {},
   "outputs": [],
   "source": [
    "official = pd.read_csv('./COVID_deaths/covid_deaths_france.csv')"
   ]
  },
  {
   "cell_type": "code",
   "execution_count": 13,
   "metadata": {},
   "outputs": [],
   "source": [
    "official['date'] = pd.to_datetime(official['date'] , format='%&%m%d', errors='ignore')\n",
    "official['covid_19'] = official.hopital + official.EHPD_EMS\n",
    "official = official[['covid_19', 'date']]"
   ]
  },
  {
   "cell_type": "markdown",
   "metadata": {},
   "source": [
    "# 3) Merging and plotting"
   ]
  },
  {
   "cell_type": "code",
   "execution_count": 14,
   "metadata": {},
   "outputs": [],
   "source": [
    "df = pd.merge(df, official, on=['date'], how='left')\n",
    "df = df.fillna(0)\n",
    "df['counterfactual_2020_covid'] = df.counterfactual_2020 + df.covid_19\n",
    "del df['covid_19']"
   ]
  },
  {
   "cell_type": "code",
   "execution_count": 15,
   "metadata": {},
   "outputs": [],
   "source": [
    "df.index=df.date\n",
    "del df['date']"
   ]
  },
  {
   "cell_type": "code",
   "execution_count": 16,
   "metadata": {},
   "outputs": [
    {
     "data": {
      "image/png": "[encoded data removed]",
      "text/plain": [
       "<Figure size 720x432 with 1 Axes>"
      ]
     },
     "metadata": {
      "needs_background": "light"
     },
     "output_type": "display_data"
    }
   ],
   "source": [
    "palette = sns.color_palette()\n",
    "\n",
    "f = plt.figure(figsize=(10,6))\n",
    "ax = plt.subplot(1,1,1)\n",
    "\n",
    "ax.plot(df.index,\n",
    "        df['2020'],\n",
    "        label='2020',\n",
    "        color='black')\n",
    "ax.plot(df.index,\n",
    "        df['counterfactual_2020_covid'],\n",
    "        label='2020 counterfactual with only Covid-19 official deaths',\n",
    "        color = palette[1])\n",
    "ax.plot(df.index,\n",
    "        df['counterfactual_2020'],\n",
    "        label='2020 counterfactual without Covid-19',\n",
    "        color='black', \n",
    "        linestyle = '--')\n",
    "ax.set_xticks(df.index[[0,5,10,15,20,25]])\n",
    "ax.fill_between(df.index, df['2020'], df['counterfactual_2020_covid'], color='black', alpha='0.2')\n",
    "ax.fill_between(df.index, df['counterfactual_2020_covid'], df['counterfactual_2020'], color='green', alpha='0.2')\n",
    "\n",
    "ax.set_ylabel('Cumulative number of deaths since March 1st',size=12)\n",
    "ax.tick_params(axis='both', which='major', labelsize=12)\n",
    "\n",
    "ax.legend(loc='upper left',\n",
    "          fontsize=12)\n",
    "\n",
    "plot_margin = 1.5\n",
    "\n",
    "x0, x1, y0, y1 = plt.axis()\n",
    "plt.axis((x0,\n",
    "          x1 + plot_margin,\n",
    "          y0,\n",
    "          y1))\n",
    "\n",
    "plt.text(29.5, 50000, '{}'.format(int(round(df.iloc[-1, 2] - df.iloc[-1, 1]))),\n",
    "         bbox=dict(facecolor=palette[1], alpha=0.2), size=12)\n",
    "\n",
    "\n",
    "plt.text(29.5, 55000, '{}'.format(int(round(df.iloc[-1, 0] - df.iloc[-1, 2]))),\n",
    "         bbox=dict(facecolor='black', alpha=0.2), size=12)\n",
    "\n",
    "plt.show()\n",
    "\n",
    "f.savefig('_france.png', bbox_inches='tight', dpi=100)"
   ]
  },
  {
   "cell_type": "code",
   "execution_count": 17,
   "metadata": {},
   "outputs": [
    {
     "name": "stdout",
     "output_type": "stream",
     "text": [
      "Official covid-deaths: 3024.0 = green - dashed black\n",
      "Excess deaths: 7673.0 = solid black - dashed black\n",
      "Unexplained excess deaths: 4649.0 = solid black - green\n"
     ]
    }
   ],
   "source": [
    "print('Official covid-deaths: {} = green - dashed black'.format(round(df.iloc[-1, 2] - df.iloc[-1, 1])))\n",
    "print('Excess deaths: {} = solid black - dashed black'.format(round(df.iloc[-1, 0] - df.iloc[-1, 1])))\n",
    "print('Unexplained excess deaths: {} = solid black - green'.format(round(df.iloc[-1, 0] - df.iloc[-1, 2])))"
   ]
  }
 ],
 "metadata": {
  "kernelspec": {
   "display_name": "Python 3",
   "language": "python",
   "name": "python3"
  },
  "language_info": {
   "codemirror_mode": {
    "name": "ipython",
    "version": 3
   },
   "file_extension": ".py",
   "mimetype": "text/x-python",
   "name": "python",
   "nbconvert_exporter": "python",
   "pygments_lexer": "ipython3",
   "version": "3.6.9"
  }
 },
 "nbformat": 4,
 "nbformat_minor": 4
}
