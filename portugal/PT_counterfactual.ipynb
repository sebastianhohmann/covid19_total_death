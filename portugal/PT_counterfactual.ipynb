{
 "cells": [
  {
   "cell_type": "code",
   "execution_count": 1,
   "metadata": {},
   "outputs": [
    {
     "name": "stderr",
     "output_type": "stream",
     "text": [
      "/home/seb/py36/lib/python3.6/site-packages/statsmodels/tools/_testing.py:19: FutureWarning: pandas.util.testing is deprecated. Use the functions in the public API at pandas.testing instead.\n",
      "  import pandas.util.testing as tm\n"
     ]
    }
   ],
   "source": [
    "import numpy as np\n",
    "import pandas as pd\n",
    "import matplotlib.pyplot as plt\n",
    "import matplotlib as mpl\n",
    "plt.style.use('seaborn')\n",
    "mpl.rcParams['font.family'] = 'serif'\n",
    "import seaborn as sns\n",
    "%matplotlib inline"
   ]
  },
  {
   "cell_type": "markdown",
   "metadata": {},
   "source": [
    "This notebook shows how to construct the number of excess deaths (relative to a counterfactual 2020) from data on total deaths. It then compares these excess deaths to the counterfactual including Covid-19 deaths.\n",
    "\n",
    "- The source for the mortality data is: https://evm.min-saude.pt/, a real-time mortality data website from the Portuguese Ministry of Health. To update, go to \"Quadros -> Total -> Exportar -> CSV\".\n",
    "\n",
    "- The source for the official Covid-19 deaths is https://github.com/dssg-pt/covid19pt-data, a website run by volunteers that scrapes data from the official daily reports of the Portuguese Health DG (DGS). Data has the date of report release, but refers to the previous day."
   ]
  },
  {
   "cell_type": "markdown",
   "metadata": {},
   "source": [
    "# 1) Processing the mortality data"
   ]
  },
  {
   "cell_type": "code",
   "execution_count": 2,
   "metadata": {},
   "outputs": [],
   "source": [
    "def convert_months(month):\n",
    "    \n",
    "    months = {}\n",
    "    months['Abr'] = '04'\n",
    "    months['Ago'] = '08'\n",
    "    months['Dez'] = '12'\n",
    "    months['Fev'] = '02'\n",
    "    months['Jan'] = '01'\n",
    "    months['Jul'] = '07'\n",
    "    months['Jun'] = '06'\n",
    "    months['Mai'] = '05'\n",
    "    months['Mar'] = '03'\n",
    "    months['Nov'] = '11'\n",
    "    months['Out'] = '10'\n",
    "    months['Set'] = '09'\n",
    "    \n",
    "    return months[month]"
   ]
  },
  {
   "cell_type": "code",
   "execution_count": 3,
   "metadata": {},
   "outputs": [],
   "source": [
    "df = pd.read_csv('./mortality_data/Dados_SICO_2020-04-12.csv',\n",
    "                 encoding = \"UTF-8\")\n",
    "\n",
    "df = df[['Data (mm-dd)'] + ['{}'.format(yr) for yr in range(2015,2021)]].reset_index(drop=True).copy(deep=True)\n",
    "\n",
    "df['aux'] = df['Data (mm-dd)'].str[:3]\n",
    "df['month'] = df.aux.apply(lambda x: convert_months(x))\n",
    "df['day'] = df['Data (mm-dd)'].str[-2:]\n",
    "df['monthday'] = pd.to_numeric(df.month + df.day)\n",
    "df['date'] = \"2020-\" + df['month'] + \"-\" + df['day']\n",
    "df['date']  =  pd.to_datetime(df['date'] , format='%Y%m%d', errors='ignore')\n",
    "\n",
    "df = df[['monthday'] + ['{}'.format(yr) for yr in range(2015,2021)] + ['date']]"
   ]
  },
  {
   "cell_type": "markdown",
   "metadata": {},
   "source": [
    "dropping all dates before first covid death (march 16, start on the 15th)"
   ]
  },
  {
   "cell_type": "code",
   "execution_count": 4,
   "metadata": {},
   "outputs": [],
   "source": [
    "first_day = 315\n",
    "df = df[df['monthday'] >= first_day].reset_index(drop=True).copy(deep=True)"
   ]
  },
  {
   "cell_type": "markdown",
   "metadata": {},
   "source": [
    "computing cumulative totals"
   ]
  },
  {
   "cell_type": "code",
   "execution_count": 5,
   "metadata": {},
   "outputs": [],
   "source": [
    "for i in range(2015, 2021):\n",
    "    df['cs_{}'.format(i)] = df['{}'.format(i)].cumsum()\n",
    "    del df['{}'.format(i)]"
   ]
  },
  {
   "cell_type": "markdown",
   "metadata": {},
   "source": [
    "computing growth rate for each year 2015-2019"
   ]
  },
  {
   "cell_type": "code",
   "execution_count": 6,
   "metadata": {},
   "outputs": [],
   "source": [
    "for yr in range(2015, 2020):\n",
    "    df['gr_{}'.format(yr)] = df['cs_{}'.format(yr)] / df['cs_{}'.format(yr)].shift(1)\n",
    "    del df['cs_{}'.format(yr)]"
   ]
  },
  {
   "cell_type": "markdown",
   "metadata": {},
   "source": [
    "computing average daily growth 2015-2019"
   ]
  },
  {
   "cell_type": "code",
   "execution_count": 7,
   "metadata": {},
   "outputs": [],
   "source": [
    "df['daily_growth'] = df.loc[:,['gr_{}'.format(yr) for yr in range(2015,2020)]].mean(axis=1)\n",
    "df = df.drop(['gr_{}'.format(yr) for yr in range(2015,2020)], axis=1)"
   ]
  },
  {
   "cell_type": "markdown",
   "metadata": {},
   "source": [
    "extrapolating forward"
   ]
  },
  {
   "cell_type": "code",
   "execution_count": 8,
   "metadata": {},
   "outputs": [],
   "source": [
    "df['counterfactual'] = 0\n",
    "df.loc[0,'counterfactual'] = df.loc[df.monthday==first_day,'cs_2020'].values[0]"
   ]
  },
  {
   "cell_type": "code",
   "execution_count": 9,
   "metadata": {},
   "outputs": [],
   "source": [
    "for i in range(1, df.shape[0]):\n",
    "    df.loc[i,'counterfactual'] = df.loc[i-1,'counterfactual'] * df.loc[i,'daily_growth']"
   ]
  },
  {
   "cell_type": "code",
   "execution_count": 10,
   "metadata": {},
   "outputs": [],
   "source": [
    "df = df.drop(['daily_growth'], axis=1)"
   ]
  },
  {
   "cell_type": "code",
   "execution_count": 11,
   "metadata": {},
   "outputs": [],
   "source": [
    "df = df[~pd.isnull(df.cs_2020)]"
   ]
  },
  {
   "cell_type": "markdown",
   "metadata": {},
   "source": [
    "# 2) Processing the covid data"
   ]
  },
  {
   "cell_type": "code",
   "execution_count": 12,
   "metadata": {},
   "outputs": [],
   "source": [
    "official = pd.read_csv('./COVID19_data/data.csv')[['data', 'obitos']]\n",
    "\n",
    "# move date one day backwards, as the report is from the previous day\n",
    "official['data'] = official.data.shift(1)\n",
    "\n",
    "official[\"month\"] = official.data.str[3:5]\n",
    "official[\"day\"] = official.data.str[0:2]\n",
    "official[\"monthday\"] = pd.to_numeric(official.month + official.day)\n",
    "\n",
    "official = official.rename(columns={\"data\": \"date\"})\n",
    "\n",
    "official = official[official['monthday'] >= first_day]\n",
    "official = official.reset_index(drop=True).copy(deep=True)\n",
    "\n",
    "del official['date']"
   ]
  },
  {
   "cell_type": "markdown",
   "metadata": {},
   "source": [
    "# 3) Merging and plotting"
   ]
  },
  {
   "cell_type": "code",
   "execution_count": 13,
   "metadata": {},
   "outputs": [],
   "source": [
    "df_merge = pd.merge(df, official, on=['monthday'], how='right')\n",
    "df_merge = df_merge.fillna(0)\n",
    "df_merge['counterfactual_2020_covid'] = df_merge.counterfactual + df_merge.obitos"
   ]
  },
  {
   "cell_type": "code",
   "execution_count": 14,
   "metadata": {},
   "outputs": [],
   "source": [
    "df_merge.index=df_merge.date\n",
    "df_merge = df_merge[['cs_2020', 'counterfactual', 'counterfactual_2020_covid']]\n",
    "df = df_merge.copy(deep=True)"
   ]
  },
  {
   "cell_type": "code",
   "execution_count": 15,
   "metadata": {},
   "outputs": [
    {
     "data": {
      "image/png": "[encoded data removed]",
      "text/plain": [
       "<Figure size 720x432 with 1 Axes>"
      ]
     },
     "metadata": {
      "needs_background": "light"
     },
     "output_type": "display_data"
    }
   ],
   "source": [
    "palette = sns.color_palette()\n",
    "\n",
    "f = plt.figure(figsize=(10,6))\n",
    "ax = plt.subplot(1,1,1)\n",
    "\n",
    "ax.plot(df.index,\n",
    "        df['cs_2020'],\n",
    "        label='2020',\n",
    "        color='black')\n",
    "ax.plot(df.index,\n",
    "        df['counterfactual_2020_covid'],\n",
    "        label='2020 counterfactual with only Covid-19 official deaths',\n",
    "        color = palette[1])\n",
    "ax.plot(df.index,\n",
    "        df['counterfactual'],\n",
    "        label='2020 counterfactual without Covid-19',\n",
    "        color='black', \n",
    "        linestyle = '--')\n",
    "ax.set_xticks(df.index[[0,5,10,15,20,25]])\n",
    "ax.fill_between(df.index, df['cs_2020'], df['counterfactual_2020_covid'], color='black', alpha='0.2')\n",
    "ax.fill_between(df.index, df['counterfactual_2020_covid'], df['counterfactual'], color='green', alpha='0.2')\n",
    "\n",
    "ax.set_ylabel('Cumulative number of deaths since March 15th',size=12)\n",
    "ax.tick_params(axis='both', which='major', labelsize=12)\n",
    "\n",
    "ax.legend(loc='upper left',\n",
    "          fontsize=12)\n",
    "\n",
    "plot_margin = 1.5\n",
    "\n",
    "x0, x1, y0, y1 = plt.axis()\n",
    "plt.axis((x0,\n",
    "          x1 + plot_margin,\n",
    "          y0,\n",
    "          y1))\n",
    "\n",
    "plt.text(26.5, 8000, '{}'.format(int(round(df.iloc[-1, 2] - df.iloc[-1, 1]))),\n",
    "         bbox=dict(facecolor=palette[1], alpha=0.2), size=12)\n",
    "\n",
    "plt.text(26.5, 8800, '{}'.format(int(round(df.iloc[-1, 0] - df.iloc[-1, 2]))),\n",
    "         bbox=dict(facecolor='black', alpha=0.2), size=12)\n",
    "\n",
    "plt.show()\n",
    "\n",
    "f.savefig('_portugal.png', bbox_inches='tight', dpi=100)"
   ]
  },
  {
   "cell_type": "code",
   "execution_count": 16,
   "metadata": {},
   "outputs": [
    {
     "name": "stdout",
     "output_type": "stream",
     "text": [
      "Official covid-deaths: 470.0 = green - dashed black\n",
      "Excess deaths: 1475.0 = solid black - dashed black\n",
      "Unexplained excess deaths: 1005.0 = solid black - green\n"
     ]
    }
   ],
   "source": [
    "print('Official covid-deaths: {} = green - dashed black'.format(round(df.iloc[-1, 2] - df.iloc[-1, 1])))\n",
    "print('Excess deaths: {} = solid black - dashed black'.format(round(df.iloc[-1, 0] - df.iloc[-1, 1])))\n",
    "print('Unexplained excess deaths: {} = solid black - green'.format(round(df.iloc[-1, 0] - df.iloc[-1, 2])))"
   ]
  }
 ],
 "metadata": {
  "kernelspec": {
   "display_name": "Python 3",
   "language": "python",
   "name": "python3"
  },
  "language_info": {
   "codemirror_mode": {
    "name": "ipython",
    "version": 3
   },
   "file_extension": ".py",
   "mimetype": "text/x-python",
   "name": "python",
   "nbconvert_exporter": "python",
   "pygments_lexer": "ipython3",
   "version": "3.6.9"
  }
 },
 "nbformat": 4,
 "nbformat_minor": 4
}
