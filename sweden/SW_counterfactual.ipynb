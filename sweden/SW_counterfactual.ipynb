{
 "cells": [
  {
   "cell_type": "code",
   "execution_count": 1,
   "metadata": {},
   "outputs": [
    {
     "name": "stderr",
     "output_type": "stream",
     "text": [
      "/home/seb/py36/lib/python3.6/site-packages/statsmodels/tools/_testing.py:19: FutureWarning: pandas.util.testing is deprecated. Use the functions in the public API at pandas.testing instead.\n",
      "  import pandas.util.testing as tm\n"
     ]
    }
   ],
   "source": [
    "import pandas as pd\n",
    "import numpy as np\n",
    "import re\n",
    "import matplotlib.pyplot as plt\n",
    "import matplotlib as mpl\n",
    "plt.style.use('seaborn')\n",
    "mpl.rcParams['font.family'] = 'serif'\n",
    "import seaborn as sns\n",
    "%matplotlib inline"
   ]
  },
  {
   "cell_type": "markdown",
   "metadata": {},
   "source": [
    "- Official statistics on total deaths are at: https://www.scb.se/en/finding-statistics/statistics-by-subject-area/population/population-composition/population-statistics $\\to$  Preliminary statistics on deaths. Importantly, while this dataset has a release date, it does also have an update date (so gets updated more frequently). This is particularly important for the issue of under-reporting as figures get retroactively corrected (mostly upwards). For the most recent days, the figures are very low and so are not usable for our analysis. In practice we therefore stop four days before the last available day (current last available day: 2020-04-09, we stop at 2020-04-05).  \n",
    "\n",
    "- Official statistics on Covid-19 mortality are at: https://www.folkhalsomyndigheten.se/smittskydd-beredskap/utbrott/aktuella-utbrott/covid-19/bekraftade-fall-i-sverige/ $\\to$ \"Data som statistiken ovan bygger på kan laddas ner här (Excel)\""
   ]
  },
  {
   "cell_type": "markdown",
   "metadata": {},
   "source": [
    "# 1) Processign the total death data"
   ]
  },
  {
   "cell_type": "code",
   "execution_count": 2,
   "metadata": {},
   "outputs": [],
   "source": [
    "def convert_months(month):\n",
    "    \n",
    "    months = {}\n",
    "    months['april'] = '04'\n",
    "    months['augusti'] = '08'\n",
    "    months['december'] = '12'\n",
    "    months['februari'] = '02'\n",
    "    months['januari'] = '01'\n",
    "    months['juli'] = '07'\n",
    "    months['juni'] = '06'\n",
    "    months['maj'] = '05'\n",
    "    months['mars'] = '03'\n",
    "    months['november'] = '11'\n",
    "    months['oktober'] = '10'\n",
    "    months['september'] = '09'\n",
    "    \n",
    "    return months[month]\n"
   ]
  },
  {
   "cell_type": "code",
   "execution_count": 3,
   "metadata": {},
   "outputs": [],
   "source": [
    "df = pd.read_excel('./total_death/2020-04-03---preliminar-statistik-over-doda-inkl-eng.xlsx', sheet_name='Tabell 1', skiprows=6)"
   ]
  },
  {
   "cell_type": "code",
   "execution_count": 4,
   "metadata": {},
   "outputs": [],
   "source": [
    "df = df[['DagMånad', 2015, 2016, 2017, 2018, 2019, 2020]].iloc[:-1,:].reset_index(drop=True).copy(deep=True)"
   ]
  },
  {
   "cell_type": "markdown",
   "metadata": {},
   "source": [
    "## 1.1) Initial cleaning and construction of date variable"
   ]
  },
  {
   "cell_type": "code",
   "execution_count": 5,
   "metadata": {},
   "outputs": [],
   "source": [
    "df['manad'] = df.DagMånad.apply(lambda x: re.search('.+?\\s(.+)', x).group(1))\n",
    "df['day'] = df.DagMånad.apply(lambda x: re.search('(.+?)\\s.+', x).group(1))\n",
    "df['day'] = ('0'+df['day'].astype('str')).str[-2:]\n",
    "df['month'] = df.manad.apply(lambda x: convert_months(x))\n",
    "df = df.drop(['DagMånad', 'manad'], axis=1)\n",
    "df['date'] = \"2020-\" + df['month'] + \"-\" + df['day']\n",
    "df['date']  =  pd.to_datetime(df['date'] , format='%Y%m%d', errors='ignore')\n",
    "df = df[(df.date >= '2020-03-10') & (df.date <= '2020-04-05')].reset_index(drop=True)\n",
    "df = df.drop(['day', 'month'], axis=1)\n",
    "df.columns = ['{}'.format(yr) for yr in range(2015, 2021)] + ['date']"
   ]
  },
  {
   "cell_type": "markdown",
   "metadata": {},
   "source": [
    "computing cumulative sums"
   ]
  },
  {
   "cell_type": "code",
   "execution_count": 6,
   "metadata": {},
   "outputs": [],
   "source": [
    "for yr in range(2015, 2021):\n",
    "    df['cs_{}'.format(yr)] = df['{}'.format(yr)].cumsum()\n",
    "    del df['{}'.format(yr)]"
   ]
  },
  {
   "cell_type": "markdown",
   "metadata": {},
   "source": [
    "computing daily growth rates"
   ]
  },
  {
   "cell_type": "code",
   "execution_count": 7,
   "metadata": {},
   "outputs": [],
   "source": [
    "for yr in range(2015, 2020):\n",
    "    df['gr_{}'.format(yr)] = df['cs_{}'.format(yr)] / df['cs_{}'.format(yr)].shift(1)\n",
    "    del df['cs_{}'.format(yr)]"
   ]
  },
  {
   "cell_type": "markdown",
   "metadata": {},
   "source": [
    "computing average of daily growth rates 15-19"
   ]
  },
  {
   "cell_type": "code",
   "execution_count": 8,
   "metadata": {},
   "outputs": [],
   "source": [
    "df['daily_growth'] = df.loc[:,['gr_{}'.format(yr) for yr in range(2015,2020)]].mean(axis=1)\n",
    "df = df.drop(['gr_{}'.format(yr) for yr in range(2015,2020)], axis=1)"
   ]
  },
  {
   "cell_type": "markdown",
   "metadata": {},
   "source": [
    "extrapolating forward"
   ]
  },
  {
   "cell_type": "code",
   "execution_count": 9,
   "metadata": {},
   "outputs": [],
   "source": [
    "df['counterfactual'] = 0\n",
    "df.loc[0,'counterfactual'] = df.loc[df.date=='2020-03-10','cs_2020'].values[0]"
   ]
  },
  {
   "cell_type": "code",
   "execution_count": 10,
   "metadata": {},
   "outputs": [],
   "source": [
    "for i in range(1, df.shape[0]):\n",
    "    df.loc[i,'counterfactual'] = df.loc[i-1,'counterfactual'] * df.loc[i,'daily_growth']"
   ]
  },
  {
   "cell_type": "code",
   "execution_count": 11,
   "metadata": {},
   "outputs": [],
   "source": [
    "df = df.drop(['daily_growth'], axis=1)"
   ]
  },
  {
   "cell_type": "markdown",
   "metadata": {},
   "source": [
    "# 2) Processing Covid-19 death data"
   ]
  },
  {
   "cell_type": "code",
   "execution_count": 12,
   "metadata": {},
   "outputs": [],
   "source": [
    "official = pd.read_excel('./covid_deaths/Folkhalsomyndigheten_Covid19.xlsx', sheet_name='Antal avlidna per dag')"
   ]
  },
  {
   "cell_type": "code",
   "execution_count": 13,
   "metadata": {},
   "outputs": [],
   "source": [
    "official['date'] = official.Datum_avliden.astype('str').str[:10]\n",
    "official['date']  =  pd.to_datetime(official['date'] , format='%Y%m%d', errors='ignore')\n",
    "del official['Datum_avliden']\n",
    "official['covid_deaths'] = official.Antal_avlidna.cumsum()\n",
    "del official['Antal_avlidna']\n",
    "official = official.iloc[:-1,:].reset_index(drop=True).copy(deep=True)"
   ]
  },
  {
   "cell_type": "markdown",
   "metadata": {},
   "source": [
    "# 3) Merging and plotting"
   ]
  },
  {
   "cell_type": "code",
   "execution_count": 14,
   "metadata": {},
   "outputs": [
    {
     "data": {
      "text/html": [
       "<div>\n",
       "<style scoped>\n",
       "    .dataframe tbody tr th:only-of-type {\n",
       "        vertical-align: middle;\n",
       "    }\n",
       "\n",
       "    .dataframe tbody tr th {\n",
       "        vertical-align: top;\n",
       "    }\n",
       "\n",
       "    .dataframe thead th {\n",
       "        text-align: right;\n",
       "    }\n",
       "</style>\n",
       "<table border=\"1\" class=\"dataframe\">\n",
       "  <thead>\n",
       "    <tr style=\"text-align: right;\">\n",
       "      <th></th>\n",
       "      <th>cs_2020</th>\n",
       "      <th>counterfactual</th>\n",
       "      <th>counterfactual_2020_covid</th>\n",
       "    </tr>\n",
       "    <tr>\n",
       "      <th>date</th>\n",
       "      <th></th>\n",
       "      <th></th>\n",
       "      <th></th>\n",
       "    </tr>\n",
       "  </thead>\n",
       "  <tbody>\n",
       "    <tr>\n",
       "      <th>2020-03-10</th>\n",
       "      <td>257</td>\n",
       "      <td>257.000000</td>\n",
       "      <td>257.000000</td>\n",
       "    </tr>\n",
       "    <tr>\n",
       "      <th>2020-03-11</th>\n",
       "      <td>486</td>\n",
       "      <td>507.232284</td>\n",
       "      <td>508.232284</td>\n",
       "    </tr>\n",
       "    <tr>\n",
       "      <th>2020-03-12</th>\n",
       "      <td>743</td>\n",
       "      <td>761.694389</td>\n",
       "      <td>762.694389</td>\n",
       "    </tr>\n",
       "    <tr>\n",
       "      <th>2020-03-13</th>\n",
       "      <td>984</td>\n",
       "      <td>1019.956791</td>\n",
       "      <td>1021.956791</td>\n",
       "    </tr>\n",
       "    <tr>\n",
       "      <th>2020-03-14</th>\n",
       "      <td>1228</td>\n",
       "      <td>1272.297046</td>\n",
       "      <td>1275.297046</td>\n",
       "    </tr>\n",
       "    <tr>\n",
       "      <th>2020-03-15</th>\n",
       "      <td>1468</td>\n",
       "      <td>1532.945966</td>\n",
       "      <td>1537.945966</td>\n",
       "    </tr>\n",
       "    <tr>\n",
       "      <th>2020-03-16</th>\n",
       "      <td>1759</td>\n",
       "      <td>1788.634629</td>\n",
       "      <td>1795.634629</td>\n",
       "    </tr>\n",
       "    <tr>\n",
       "      <th>2020-03-17</th>\n",
       "      <td>2021</td>\n",
       "      <td>2048.603564</td>\n",
       "      <td>2056.603564</td>\n",
       "    </tr>\n",
       "    <tr>\n",
       "      <th>2020-03-18</th>\n",
       "      <td>2273</td>\n",
       "      <td>2294.325840</td>\n",
       "      <td>2308.325840</td>\n",
       "    </tr>\n",
       "    <tr>\n",
       "      <th>2020-03-19</th>\n",
       "      <td>2504</td>\n",
       "      <td>2541.798445</td>\n",
       "      <td>2562.798445</td>\n",
       "    </tr>\n",
       "    <tr>\n",
       "      <th>2020-03-20</th>\n",
       "      <td>2778</td>\n",
       "      <td>2795.954882</td>\n",
       "      <td>2826.954882</td>\n",
       "    </tr>\n",
       "    <tr>\n",
       "      <th>2020-03-21</th>\n",
       "      <td>3039</td>\n",
       "      <td>3042.013034</td>\n",
       "      <td>3080.013034</td>\n",
       "    </tr>\n",
       "    <tr>\n",
       "      <th>2020-03-22</th>\n",
       "      <td>3307</td>\n",
       "      <td>3289.023432</td>\n",
       "      <td>3339.023432</td>\n",
       "    </tr>\n",
       "    <tr>\n",
       "      <th>2020-03-23</th>\n",
       "      <td>3599</td>\n",
       "      <td>3533.055424</td>\n",
       "      <td>3594.055424</td>\n",
       "    </tr>\n",
       "    <tr>\n",
       "      <th>2020-03-24</th>\n",
       "      <td>3872</td>\n",
       "      <td>3774.731218</td>\n",
       "      <td>3855.731218</td>\n",
       "    </tr>\n",
       "    <tr>\n",
       "      <th>2020-03-25</th>\n",
       "      <td>4160</td>\n",
       "      <td>4002.537262</td>\n",
       "      <td>4108.537262</td>\n",
       "    </tr>\n",
       "    <tr>\n",
       "      <th>2020-03-26</th>\n",
       "      <td>4451</td>\n",
       "      <td>4255.475553</td>\n",
       "      <td>4391.475553</td>\n",
       "    </tr>\n",
       "    <tr>\n",
       "      <th>2020-03-27</th>\n",
       "      <td>4734</td>\n",
       "      <td>4506.557672</td>\n",
       "      <td>4674.557672</td>\n",
       "    </tr>\n",
       "    <tr>\n",
       "      <th>2020-03-28</th>\n",
       "      <td>4993</td>\n",
       "      <td>4752.801243</td>\n",
       "      <td>4955.801243</td>\n",
       "    </tr>\n",
       "    <tr>\n",
       "      <th>2020-03-29</th>\n",
       "      <td>5279</td>\n",
       "      <td>4998.998166</td>\n",
       "      <td>5239.998166</td>\n",
       "    </tr>\n",
       "    <tr>\n",
       "      <th>2020-03-30</th>\n",
       "      <td>5597</td>\n",
       "      <td>5252.376635</td>\n",
       "      <td>5535.376635</td>\n",
       "    </tr>\n",
       "    <tr>\n",
       "      <th>2020-03-31</th>\n",
       "      <td>5892</td>\n",
       "      <td>5498.688908</td>\n",
       "      <td>5824.688908</td>\n",
       "    </tr>\n",
       "    <tr>\n",
       "      <th>2020-04-01</th>\n",
       "      <td>6200</td>\n",
       "      <td>5745.470641</td>\n",
       "      <td>6119.470641</td>\n",
       "    </tr>\n",
       "    <tr>\n",
       "      <th>2020-04-02</th>\n",
       "      <td>6544</td>\n",
       "      <td>5999.014938</td>\n",
       "      <td>6442.014938</td>\n",
       "    </tr>\n",
       "    <tr>\n",
       "      <th>2020-04-03</th>\n",
       "      <td>6860</td>\n",
       "      <td>6247.260039</td>\n",
       "      <td>6758.260039</td>\n",
       "    </tr>\n",
       "    <tr>\n",
       "      <th>2020-04-04</th>\n",
       "      <td>7121</td>\n",
       "      <td>6497.980858</td>\n",
       "      <td>7067.980858</td>\n",
       "    </tr>\n",
       "    <tr>\n",
       "      <th>2020-04-05</th>\n",
       "      <td>7433</td>\n",
       "      <td>6737.727836</td>\n",
       "      <td>7383.727836</td>\n",
       "    </tr>\n",
       "  </tbody>\n",
       "</table>\n",
       "</div>"
      ],
      "text/plain": [
       "            cs_2020  counterfactual  counterfactual_2020_covid\n",
       "date                                                          \n",
       "2020-03-10      257      257.000000                 257.000000\n",
       "2020-03-11      486      507.232284                 508.232284\n",
       "2020-03-12      743      761.694389                 762.694389\n",
       "2020-03-13      984     1019.956791                1021.956791\n",
       "2020-03-14     1228     1272.297046                1275.297046\n",
       "2020-03-15     1468     1532.945966                1537.945966\n",
       "2020-03-16     1759     1788.634629                1795.634629\n",
       "2020-03-17     2021     2048.603564                2056.603564\n",
       "2020-03-18     2273     2294.325840                2308.325840\n",
       "2020-03-19     2504     2541.798445                2562.798445\n",
       "2020-03-20     2778     2795.954882                2826.954882\n",
       "2020-03-21     3039     3042.013034                3080.013034\n",
       "2020-03-22     3307     3289.023432                3339.023432\n",
       "2020-03-23     3599     3533.055424                3594.055424\n",
       "2020-03-24     3872     3774.731218                3855.731218\n",
       "2020-03-25     4160     4002.537262                4108.537262\n",
       "2020-03-26     4451     4255.475553                4391.475553\n",
       "2020-03-27     4734     4506.557672                4674.557672\n",
       "2020-03-28     4993     4752.801243                4955.801243\n",
       "2020-03-29     5279     4998.998166                5239.998166\n",
       "2020-03-30     5597     5252.376635                5535.376635\n",
       "2020-03-31     5892     5498.688908                5824.688908\n",
       "2020-04-01     6200     5745.470641                6119.470641\n",
       "2020-04-02     6544     5999.014938                6442.014938\n",
       "2020-04-03     6860     6247.260039                6758.260039\n",
       "2020-04-04     7121     6497.980858                7067.980858\n",
       "2020-04-05     7433     6737.727836                7383.727836"
      ]
     },
     "execution_count": 14,
     "metadata": {},
     "output_type": "execute_result"
    }
   ],
   "source": [
    "df = pd.merge(df, official, on=['date'], how='left')\n",
    "df = df.fillna(0)\n",
    "df['counterfactual_2020_covid'] = df.counterfactual + df.covid_deaths\n",
    "del df['covid_deaths']\n",
    "df.index = df.date\n",
    "del df['date']\n",
    "df"
   ]
  },
  {
   "cell_type": "code",
   "execution_count": 15,
   "metadata": {},
   "outputs": [
    {
     "data": {
      "image/png": "[encoded data removed]",
      "text/plain": [
       "<Figure size 720x432 with 1 Axes>"
      ]
     },
     "metadata": {
      "needs_background": "light"
     },
     "output_type": "display_data"
    }
   ],
   "source": [
    "palette = sns.color_palette()\n",
    "\n",
    "f = plt.figure(figsize=(10,6))\n",
    "ax = plt.subplot(1,1,1)\n",
    "\n",
    "ax.plot(df.index,\n",
    "        df['cs_2020'],\n",
    "        label='2020',\n",
    "        color='black')\n",
    "ax.plot(df.index,\n",
    "        df['counterfactual_2020_covid'],\n",
    "        label='2020 counterfactual with only Covid-19 official deaths',\n",
    "        color = palette[1])\n",
    "ax.plot(df.index,\n",
    "        df['counterfactual'],\n",
    "        label='2020 counterfactual without Covid-19',\n",
    "        color='black', \n",
    "        linestyle = '--')\n",
    "\n",
    "ax.set_xticks(df.index[[1,6,11,16,21,26]])\n",
    "ax.fill_between(df.index, df['cs_2020'], df['counterfactual_2020_covid'], color='black', alpha='0.2')\n",
    "ax.fill_between(df.index, df['counterfactual_2020_covid'], df['counterfactual'], color='green', alpha='0.2')\n",
    "\n",
    "ax.set_ylabel('Cumulative number of deaths since March 10th',size=12)\n",
    "ax.tick_params(axis='both', which='major', labelsize=12)\n",
    "\n",
    "ax.legend(loc='upper left',\n",
    "          fontsize=12)\n",
    "\n",
    "plot_margin = 1\n",
    "\n",
    "x0, x1, y0, y1 = plt.axis()\n",
    "plt.axis((x0,\n",
    "          x1 + plot_margin,\n",
    "          y0,\n",
    "          y1))\n",
    "\n",
    "plt.text(26.5, 6750, '{}'.format(int(round(df.iloc[-1, 2] - df.iloc[-1, 1]))),\n",
    "         bbox=dict(facecolor=palette[1], alpha=0.2), size=12)\n",
    "\n",
    "\n",
    "plt.text(26.5, 7350, '{}'.format(int(round(df.iloc[-1, 0] - df.iloc[-1, 2]))),\n",
    "         bbox=dict(facecolor='black', alpha=0.2), size=12)\n",
    "\n",
    "plt.show()\n",
    "\n",
    "f.savefig('_sweden.pdf', bbox_inches='tight', dpi=100)"
   ]
  },
  {
   "cell_type": "code",
   "execution_count": 16,
   "metadata": {},
   "outputs": [
    {
     "name": "stdout",
     "output_type": "stream",
     "text": [
      "Official covid-deaths: 646.0 = green - dashed black\n",
      "Excess deaths: 695.0 = solid black - dashed black\n",
      "Unexplained excess deaths: 49.0 = solid black - green\n"
     ]
    }
   ],
   "source": [
    "print('Official covid-deaths: {} = green - dashed black'.format(round(df.iloc[-1, 2] - df.iloc[-1, 1])))\n",
    "print('Excess deaths: {} = solid black - dashed black'.format(round(df.iloc[-1, 0] - df.iloc[-1, 1])))\n",
    "print('Unexplained excess deaths: {} = solid black - green'.format(round(df.iloc[-1, 0] - df.iloc[-1, 2])))"
   ]
  }
 ],
 "metadata": {
  "kernelspec": {
   "display_name": "Python 3",
   "language": "python",
   "name": "python3"
  },
  "language_info": {
   "codemirror_mode": {
    "name": "ipython",
    "version": 3
   },
   "file_extension": ".py",
   "mimetype": "text/x-python",
   "name": "python",
   "nbconvert_exporter": "python",
   "pygments_lexer": "ipython3",
   "version": "3.6.9"
  }
 },
 "nbformat": 4,
 "nbformat_minor": 4
}
