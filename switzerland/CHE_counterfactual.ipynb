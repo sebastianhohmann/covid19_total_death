{
 "cells": [
  {
   "cell_type": "code",
   "execution_count": 1,
   "metadata": {},
   "outputs": [
    {
     "name": "stderr",
     "output_type": "stream",
     "text": [
      "/home/seb/py36/lib/python3.6/site-packages/statsmodels/tools/_testing.py:19: FutureWarning: pandas.util.testing is deprecated. Use the functions in the public API at pandas.testing instead.\n",
      "  import pandas.util.testing as tm\n"
     ]
    }
   ],
   "source": [
    "import pandas as pd\n",
    "import numpy as np\n",
    "import re\n",
    "import matplotlib.pyplot as plt\n",
    "import matplotlib as mpl\n",
    "plt.style.use('seaborn')\n",
    "mpl.rcParams['font.family'] = 'serif'\n",
    "import seaborn as sns\n",
    "%matplotlib inline"
   ]
  },
  {
   "cell_type": "markdown",
   "metadata": {},
   "source": [
    "- The official data for weekly all-cause mortality are here: https://www.bfs.admin.ch/bfs/de/home/statistiken/gesundheit/gesundheitszustand/sterblichkeit-todesursachen.html\n",
    "\n",
    "- Note that Switzerland reports deaths for ages 0-64 and 65+ separately\n",
    "\n",
    "- official data on covid-19 fatalities are here: https://www.bag.admin.ch/bag/de/home/krankheiten/ausbrueche-epidemien-pandemien/aktuelle-ausbrueche-epidemien/novel-cov/situation-schweiz-und-international.html#-1934206868"
   ]
  },
  {
   "cell_type": "markdown",
   "metadata": {},
   "source": [
    "# 1) Parsing the data on total death"
   ]
  },
  {
   "cell_type": "markdown",
   "metadata": {},
   "source": [
    "## 1.1) 2015-2019"
   ]
  },
  {
   "cell_type": "code",
   "execution_count": 2,
   "metadata": {},
   "outputs": [],
   "source": [
    "df = pd.read_csv('./total_deaths/ts-d-14.03.04.03-wr_ZR.csv', sep=';', encoding = \"ISO-8859-1\")\n",
    "df = df[['KJ', 'Kalenderwoche', 'Endend', 'Alter', 'Anzahl_Todesfalle']]\n",
    "df = df[~df.KJ.str.contains('#')]\n",
    "del df['Alter']\n",
    "df = df.groupby(['KJ', 'Kalenderwoche', 'Endend']).sum().reset_index(drop=False).copy(deep=True)\n",
    "\n",
    "for yr in range(2015,2020):\n",
    "    \n",
    "    dfy = df[df.KJ == '{}'.format(yr)][['Kalenderwoche', 'Anzahl_Todesfalle']]\n",
    "    \n",
    "    dfy.columns = ['week', '{}'.format(yr)]\n",
    "    \n",
    "    if yr == 2015:    \n",
    "        dfa = dfy.reset_index(drop=True).copy(deep=True)\n",
    "    else:\n",
    "        dfa = pd.merge(dfa, dfy, on=['week'], how='outer').reset_index(drop=True).copy(deep=True)"
   ]
  },
  {
   "cell_type": "markdown",
   "metadata": {},
   "source": [
    "## 1.2) 2020"
   ]
  },
  {
   "cell_type": "code",
   "execution_count": 3,
   "metadata": {},
   "outputs": [],
   "source": [
    "df = pd.read_csv('./total_deaths/ts-d-14.03.04.03-wr.csv', sep=';')\n",
    "df = df[['Endend', 'Woche', 'hochrechnung']]\n",
    "df['Woche'] = df.Woche.astype('int')\n",
    "df = df.dropna()\n",
    "df = df.groupby(['Endend', 'Woche']).sum().reset_index(drop=False)\n",
    "df = df.sort_values(by=['Woche']).reset_index(drop=True).copy(deep=False)\n",
    "df['date'] = '2020-' + df.Endend.str[3:5] + '-' + df.Endend.str[:2]\n",
    "df['2020'] = df.hochrechnung\n",
    "df['week'] = df.Woche\n",
    "df = df[['date', '2020', 'week']].copy(deep=True)\n",
    "df = pd.merge(df, dfa, on=['week'], how='inner')\n",
    "df = df[['date', 'week'] + ['{}'.format(yr) for yr in range(2015, 2021)]]"
   ]
  },
  {
   "cell_type": "markdown",
   "metadata": {},
   "source": [
    "First official Covid-19 death in Switzerland is recorded on March 5th (week 10) $\\to$ discard all observations prior to week 9."
   ]
  },
  {
   "cell_type": "code",
   "execution_count": 4,
   "metadata": {},
   "outputs": [],
   "source": [
    "df = df[df.week >= 9].reset_index(drop=True).copy(deep=True)"
   ]
  },
  {
   "cell_type": "markdown",
   "metadata": {},
   "source": [
    "Computing cumulative sums"
   ]
  },
  {
   "cell_type": "code",
   "execution_count": 5,
   "metadata": {},
   "outputs": [],
   "source": [
    "for yr in range(2015, 2021):\n",
    "    df['cs_{}'.format(yr)] = df['{}'.format(yr)].cumsum()\n",
    "    del df['{}'.format(yr)]"
   ]
  },
  {
   "cell_type": "markdown",
   "metadata": {},
   "source": [
    "Computing weekly growth rates for 2015-2019"
   ]
  },
  {
   "cell_type": "code",
   "execution_count": 6,
   "metadata": {},
   "outputs": [],
   "source": [
    "for yr in range(2015, 2020):\n",
    "    df['gr_{}'.format(yr)] = df['cs_{}'.format(yr)] / df['cs_{}'.format(yr)].shift(1)\n",
    "    del df['cs_{}'.format(yr)]"
   ]
  },
  {
   "cell_type": "markdown",
   "metadata": {},
   "source": [
    "Computing average daily growth rates 2016-2019"
   ]
  },
  {
   "cell_type": "code",
   "execution_count": 7,
   "metadata": {},
   "outputs": [],
   "source": [
    "df['weekly_growth'] = df.loc[:,['gr_{}'.format(yr) for yr in range(2015,2020)]].mean(axis=1)\n",
    "df = df.drop(['gr_{}'.format(yr) for yr in range(2015,2020)], axis=1)"
   ]
  },
  {
   "cell_type": "markdown",
   "metadata": {},
   "source": [
    "Extrapolating forward"
   ]
  },
  {
   "cell_type": "code",
   "execution_count": 8,
   "metadata": {},
   "outputs": [],
   "source": [
    "df['counterfactual'] = 0\n",
    "df.loc[0,'counterfactual'] = df.loc[df.date=='2020-03-01','cs_2020'].values[0]"
   ]
  },
  {
   "cell_type": "code",
   "execution_count": 9,
   "metadata": {},
   "outputs": [],
   "source": [
    "for i in range(1, df.shape[0]):\n",
    "    df.loc[i,'counterfactual'] = df.loc[i-1,'counterfactual'] * df.loc[i,'weekly_growth']"
   ]
  },
  {
   "cell_type": "code",
   "execution_count": 10,
   "metadata": {},
   "outputs": [],
   "source": [
    "df = df.drop(['weekly_growth'], axis=1)"
   ]
  },
  {
   "cell_type": "markdown",
   "metadata": {},
   "source": [
    "# 2) Processing the official Covid-19 deaths"
   ]
  },
  {
   "cell_type": "code",
   "execution_count": 11,
   "metadata": {},
   "outputs": [],
   "source": [
    "cal = pd.read_csv('./covid_deaths/weeks_dates.csv')\n",
    "official = pd.read_excel('./covid_deaths/200325_Datengrundlage_Grafiken_COVID-19-Bericht.xlsx',\n",
    "                         sheet_name='COVID19 Zahlen', skiprows=6)\n",
    "official = official[~pd.isnull(official['Todesfälle pro Tag'])].reset_index(drop=True)\n",
    "official = official[['Datum', 'Todesfälle pro Tag']]\n",
    "official['Datum'] = official.Datum.astype('str')\n",
    "cal['Datum'] = '2020-' + cal.date.str[3:5] + '-' + cal.date.str[:2]\n",
    "del cal['date']\n",
    "official = pd.merge(official, cal, on=['Datum'], how='inner')\n",
    "del official['Datum']\n",
    "official.columns = ['deaths', 'week']\n",
    "official = official.groupby('week').sum().reset_index(drop=False).copy(deep=True)\n",
    "official['covid_deaths'] = official.deaths.cumsum()\n",
    "del official['deaths']"
   ]
  },
  {
   "cell_type": "markdown",
   "metadata": {},
   "source": [
    "# 3) Merging and plotting"
   ]
  },
  {
   "cell_type": "code",
   "execution_count": 12,
   "metadata": {},
   "outputs": [],
   "source": [
    "df = pd.merge(df, official, on='week', how='left')\n",
    "df = df.fillna(0)\n",
    "df['counterfactual_2020_covid'] = df.counterfactual + df.covid_deaths\n",
    "del df['covid_deaths']\n",
    "df.index = df.date\n",
    "del df['date']\n",
    "del df['week']"
   ]
  },
  {
   "cell_type": "code",
   "execution_count": 13,
   "metadata": {},
   "outputs": [
    {
     "data": {
      "image/png": "[encoded data removed]",
      "text/plain": [
       "<Figure size 720x432 with 1 Axes>"
      ]
     },
     "metadata": {
      "needs_background": "light"
     },
     "output_type": "display_data"
    }
   ],
   "source": [
    "palette = sns.color_palette()\n",
    "\n",
    "f = plt.figure(figsize=(10,6))\n",
    "ax = plt.subplot(1,1,1)\n",
    "\n",
    "ax.plot(df.index,\n",
    "        df['cs_2020'],\n",
    "        label='2020',\n",
    "        color='black')\n",
    "ax.plot(df.index,\n",
    "        df['counterfactual_2020_covid'],\n",
    "        label='2020 counterfactual with only Covid-19 official deaths',\n",
    "        color = palette[1])\n",
    "ax.plot(df.index,\n",
    "        df['counterfactual'],\n",
    "        label='2020 counterfactual without Covid-19',\n",
    "        color='black', \n",
    "        linestyle = '--')\n",
    "\n",
    "ax.set_xticks(df.index[[0,1,2,3,4,5]])\n",
    "ax.fill_between(df.index, df['cs_2020'], df['counterfactual_2020_covid'], color='black', alpha='0.2')\n",
    "ax.fill_between(df.index, df['counterfactual_2020_covid'], df['counterfactual'], color='green', alpha='0.2')\n",
    "\n",
    "ax.set_ylabel('Cumulative number of deaths since\\nweek ending March 1st',size=12)\n",
    "ax.tick_params(axis='both', which='major', labelsize=12)\n",
    "\n",
    "ax.legend(loc='upper left',\n",
    "          fontsize=12)\n",
    "\n",
    "plot_margin = 0.6\n",
    "\n",
    "x0, x1, y0, y1 = plt.axis()\n",
    "plt.axis((x0,\n",
    "          x1 + plot_margin,\n",
    "          y0,\n",
    "          y1))\n",
    "\n",
    "plt.text(5.2, 7300, '{}'.format(int(round(df.iloc[-1, 2] - df.iloc[-1, 1]))),\n",
    "         bbox=dict(facecolor=palette[1], alpha=0.2), size=12)\n",
    "\n",
    "\n",
    "plt.text(5.2, 8400, '{}'.format(int(round(df.iloc[-1, 0] - df.iloc[-1, 2]))),\n",
    "         bbox=dict(facecolor='black', alpha=0.2), size=12)\n",
    "\n",
    "plt.show()\n",
    "\n",
    "f.savefig('_switzerland.pdf', bbox_inches='tight', dpi=100)"
   ]
  },
  {
   "cell_type": "code",
   "execution_count": 14,
   "metadata": {},
   "outputs": [
    {
     "name": "stdout",
     "output_type": "stream",
     "text": [
      "Official covid-deaths: 693.0 = green - dashed black\n",
      "Excess deaths: 1831.0 = solid black - dashed black\n",
      "Unexplained excess deaths: 1138.0 = solid black - green\n"
     ]
    }
   ],
   "source": [
    "print('Official covid-deaths: {} = green - dashed black'.format(round(df.iloc[-1, 2] - df.iloc[-1, 1])))\n",
    "print('Excess deaths: {} = solid black - dashed black'.format(round(df.iloc[-1, 0] - df.iloc[-1, 1])))\n",
    "print('Unexplained excess deaths: {} = solid black - green'.format(round(df.iloc[-1, 0] - df.iloc[-1, 2])))"
   ]
  }
 ],
 "metadata": {
  "kernelspec": {
   "display_name": "Python 3",
   "language": "python",
   "name": "python3"
  },
  "language_info": {
   "codemirror_mode": {
    "name": "ipython",
    "version": 3
   },
   "file_extension": ".py",
   "mimetype": "text/x-python",
   "name": "python",
   "nbconvert_exporter": "python",
   "pygments_lexer": "ipython3",
   "version": "3.6.9"
  }
 },
 "nbformat": 4,
 "nbformat_minor": 4
}
