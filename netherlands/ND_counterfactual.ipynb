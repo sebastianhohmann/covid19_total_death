{
 "cells": [
  {
   "cell_type": "code",
   "execution_count": 1,
   "metadata": {},
   "outputs": [
    {
     "name": "stderr",
     "output_type": "stream",
     "text": [
      "/home/seb/py36/lib/python3.6/site-packages/statsmodels/tools/_testing.py:19: FutureWarning: pandas.util.testing is deprecated. Use the functions in the public API at pandas.testing instead.\n",
      "  import pandas.util.testing as tm\n"
     ]
    }
   ],
   "source": [
    "import pandas as pd\n",
    "import numpy as np\n",
    "import re\n",
    "import matplotlib.pyplot as plt\n",
    "import matplotlib as mpl\n",
    "plt.style.use('seaborn')\n",
    "mpl.rcParams['font.family'] = 'serif'\n",
    "import seaborn as sns\n",
    "%matplotlib inline"
   ]
  },
  {
   "cell_type": "markdown",
   "metadata": {},
   "source": [
    "- Official statistics on total deaths are at: https://opendata.cbs.nl/statline/#/CBS/en/ $\\to$ The Netherlands in figures $\\to$ Show themes >> $\\to$ Population $\\to$ Population Development $\\to$ Deaths $\\to$ Deaths registered weekly, by sex and age\n",
    "\n",
    "- Official statistics on Covid-19 mortality are at: https://www.rivm.nl/coronavirus-covid-19/grafieken $\\to$ Aantal overledenen naar datum van overlijden"
   ]
  },
  {
   "cell_type": "markdown",
   "metadata": {},
   "source": [
    "# 1) Processing official data on total deaths"
   ]
  },
  {
   "cell_type": "markdown",
   "metadata": {},
   "source": [
    "## 1.1) Ingesting and reshaping data 1995-2020"
   ]
  },
  {
   "cell_type": "code",
   "execution_count": 2,
   "metadata": {},
   "outputs": [],
   "source": [
    "df = pd.read_csv('./total_death/Deaths_registered_weekly__by_sex_and_age_17042020_112209.csv', skiprows=5, delimiter=';')"
   ]
  },
  {
   "cell_type": "code",
   "execution_count": 3,
   "metadata": {},
   "outputs": [],
   "source": [
    "df = df[['Periods', 'aantal']]\n",
    "df = df[df.Periods != 'Source: CBS']\n",
    "df['year'] = df['Periods'].str[:4]\n",
    "df['week'] = df.Periods.apply(lambda x: re.search('[0-9]{4}\\sweek\\s([0-9]+)', x).group(1))\n",
    "df['special'] = df.Periods.apply(lambda x: re.search('[0-9]{4}\\sweek\\s[0-9]+(.*)', x).group(1))\n",
    "df['deaths'] = df.aantal\n",
    "df.loc[df.special=='*', 'special'] = ''\n",
    "df = df.reset_index(drop=True).copy(deep=True)"
   ]
  },
  {
   "cell_type": "markdown",
   "metadata": {},
   "source": [
    "filling week 1 with week 0 / week 53 of previous years. This is not necessary (we will not need these) but for consistency check with https://www.cbs.nl/nl-nl/nieuws/2020/15/sterfte-neemt-verder-toe . "
   ]
  },
  {
   "cell_type": "code",
   "execution_count": 4,
   "metadata": {},
   "outputs": [],
   "source": [
    "def add_discard(df, p1, p2):\n",
    "    v1 = df[df.Periods == p1].deaths.values[0]\n",
    "    v2 = df[df.Periods == p2].deaths.values[0]\n",
    "    df.loc[df.Periods == p2, 'deaths'] = v1+v2\n",
    "    df = df[df.Periods != p1].reset_index(drop=True).copy(deep=True)\n",
    "#     print(v1)\n",
    "#     print(v2)\n",
    "#     print(v1+v2)\n",
    "#     print(df.loc[df.Periods == p2].deaths.values[0])\n",
    "#     print(df.shape)\n",
    "#     print(df[df.Periods == p1].shape)\n",
    "#     print(df[df.Periods == p2].shape)\n",
    "#     print('')\n",
    "    return df\n",
    "    "
   ]
  },
  {
   "cell_type": "code",
   "execution_count": 5,
   "metadata": {},
   "outputs": [],
   "source": [
    "# 1995 has week 0 (1 day) and week 1 with no days qualifier => discard week 0\n",
    "df = df[df.Periods != '1995 week 0 (1 day)'].reset_index(drop=True).copy(deep=True)\n",
    "\n",
    "# 1996 has week 53 (2 days) and 1997 has week 1 (5 days) => add 1996-53 to 1997-1 and discard 1996-53\n",
    "df = add_discard(df, '1996 week 53 (2 days)', '1997 week 1 (5 days)')\n",
    "\n",
    "# 1997 has week 53 (3 days) and 1998 has week 1 (4 days) => add 1997-53 to 1998-1 and discard 1997-53\n",
    "df = add_discard(df, '1997 week 53 (3 days)', '1998 week 1 (4 days)')\n",
    "\n",
    "# # 1998 has week 53 (4 days) and 1999 has week 0 (3 days) => add 1999-0 to 1998-53 and discard 1999-0\n",
    "# df = add_discard(df, '1999 week 0 (3 days)', '1998 week 53 (4 days)')\n",
    "\n",
    "# 1998 has week 53 (4 days) and the next week is 1999 week 1, which is entirely normal => discard 1998 week 53\n",
    "df = df[df.Periods != '1998 week 53 (4 days)'].reset_index(drop=True).copy(deep=True)\n",
    "\n",
    "# # 1999 has week 52 (5 days) and 2000 has week 0 (2 days) => add 2000-0 to 1999-52 and discard 2000-0\n",
    "# df = add_discard(df, '2000 week 0 (2 days)', '1999 week 52 (5 days)')\n",
    "\n",
    "# 1999 has week 52 (5 days) and the next week is 2000 week 1, which is entirely normal => discard 1999 week 52 [# DOESNT AFFECT OUR CALCULATIONS BUT NEED TO CHECK]\n",
    "df = df[df.Periods != '1999 week 52 (5 days)'].reset_index(drop=True).copy(deep=True)\n",
    "\n",
    "# 2001 has week 53 (1 day) and 2002 has week 1 (6 days) => add 2001-53 to 2002-1 and discard 2001-53\n",
    "df = add_discard(df, '2001 week 53 (1 day)', '2002 week 1 (6 days)')\n",
    "\n",
    "# 2002 has week 53 (2 days) and 2003 has week 1 (5 days) => add 2002-53 to 2003-1 and discard 2002-53\n",
    "df = add_discard(df, '2002 week 53 (2 days)', '2003 week 1 (5 days)')\n",
    "\n",
    "# 2003 has week 53 (3 days) and 2004 has week 1 with very few deaths => add 2003-53 to 2004-1 and discard 2003-53\n",
    "df = add_discard(df, '2003 week 53 (3 days)', '2004 week 1')\n",
    "\n",
    "# # 2004 has week 53 (5 days) and 2005 has week 0 (2 days) => add 2005-0 to 2004-53 and discard 2005-0\n",
    "# df = add_discard(df, '2005 week 0 (2 days)', '2004 week 53 (5 days)')\n",
    "\n",
    "# 2004 has week 53 (5 days) and the next week is 2005 week 1, which is entirely normal => discard 2004 week 53\n",
    "df = df[df.Periods != '2004 week 53 (5 days)'].reset_index(drop=True).copy(deep=True)\n",
    "\n",
    "# # 2005 has week 52 (6 days) and 2006 has week 0 (1 day) => add 2006-0 to 2005-52 and discard 2006-0\n",
    "# df = add_discard(df, '2006 week 0 (1 day)', '2005 week 52 (6 days)')\n",
    "\n",
    "# 2005 has week 52 (6 days) and the next week is 2006 week 1, which is entirely normal => discard 2005 week 52 [# DOESNT AFFECT OUR CALCULATIONS BUT NEED TO CHECK]\n",
    "df = df[df.Periods != '2005 week 52 (6 days)'].reset_index(drop=True).copy(deep=True)\n",
    "\n",
    "# 2007 has week 53 (1 day) and 2008 has week 1 (6 days) => add 2007-53 to 2008-1 and discard 2007-53\n",
    "df = add_discard(df, '2007 week 53 (1 day)', '2008 week 1 (6 days)')\n",
    "\n",
    "# 2008 has week 53 (3 days) and 2009 has week 1 (4 days) => add 2008-53 to 2009-1 and discard 2008-53\n",
    "df = add_discard(df, '2008 week 53 (3 days)', '2009 week 1 (4 days)')\n",
    "\n",
    "# # 2009 has week 53 (4 days) and 2010 has week 0 (3 days) => add 2010-0 to 2009-53 and discard 2010-0\n",
    "# df = add_discard(df, '2010 week 0 (3 days)', '2009 week 53 (4 days)')\n",
    "\n",
    "# 2009 has week 53 (4 days) and the next week is 2010 week 1, which is entirely normal => discard 2009 week 53\n",
    "df = df[df.Periods != '2009 week 53 (4 days)'].reset_index(drop=True).copy(deep=True)\n",
    "\n",
    "# # 2010 has week 52 (5 days) and 2011 has week 0 (2 days) => add 2011-0 to 2010-52 and discard 2011-0\n",
    "# df = add_discard(df, '2011 week 0 (2 days)', '2010 week 52 (5 days)')\n",
    "\n",
    "# 2010 has week 52 (5 days) and the next week is 2011 week 1, which is entirely normal => discard 2010 week 52 [# DOESNT AFFECT OUR CALCULATIONS BUT NEED TO CHECK]\n",
    "df = df[df.Periods != '2010 week 52 (5 days)'].reset_index(drop=True).copy(deep=True)\n",
    "\n",
    "# # 2011 has week 52 (6 days) and 2012 has week 0 (1 day) => add 2012-0 to 2011-52 and discard 2012-0\n",
    "# df = add_discard(df, '2012 week 0 (1 day)', '2011 week 52 (6 days)')\n",
    "\n",
    "# 2011 has week 52 (6 days) and the next week is 2012 week 1, which is entirely normal => discard 2011 week 52 [# DOESNT AFFECT OUR CALCULATIONS BUT NEED TO CHECK]\n",
    "df = df[df.Periods != '2011 week 52 (6 days)'].reset_index(drop=True).copy(deep=True)\n",
    "\n",
    "# 2012 has week 53 and 2013 week 1 has very few deaths => add 2012-53 to 2013-1 and discard 2012-53\n",
    "df = add_discard(df, '2012 week 53', '2013 week 1')\n",
    "\n",
    "# 2013 has week 53 (2 days) and 2014 has week 1 (5 days) => add 2013-53 to 2014-1 and discard 2013-53\n",
    "df = add_discard(df, '2013 week 53 (2 days)', '2014 week 1 (5 days)')\n",
    "\n",
    "# 2014 has week 53 (3 days) and 2015 has week 1 (4 days) => add 2014-53 to 2015-1 and discard 2014-53\n",
    "df = add_discard(df, '2014 week 53 (3 days)', '2015 week 1 (4 days)')\n",
    "\n",
    "# # 2015 has week 53 (4 days) and 2016 has week 0 (3 days) => add 2016-0 to 2015-53 and discard 2016-0\n",
    "# df = add_discard(df, '2016 week 0 (3 days)', '2015 week 53 (4 days)')\n",
    "\n",
    "# 2015 has week 53 (4 days) and the next week is 2016 week 1, which is entirely normal => discard 2015 week 53\n",
    "df = df[df.Periods != '2015 week 53 (4 days)'].reset_index(drop=True).copy(deep=True)\n",
    "\n",
    "# # 2016 has week 52 (6 days) and 2017 has week 0 (1 day) => add 2017-0 to 2016-52 and discard 2017-0\n",
    "# df = add_discard(df, '2017 week 0 (1 day)', '2016 week 52 (6 days)')\n",
    "\n",
    "# 2016 has week 52 (6 days) and the next week is 2017 week 1, which is entirely normal => discard 2016 week 52 [# DOESNT AFFECT OUR CALCULATIONS BUT NEED TO CHECK]\n",
    "df = df[df.Periods != '2016 week 52 (6 days)'].reset_index(drop=True).copy(deep=True)\n",
    "\n",
    "# 2018 has week 53 (1 day) and 2019 has week 1 (6 days) => add 2018-53 to 2019-1 and discard 2018-53\n",
    "df = add_discard(df, '2018 week 53 (1 day)', '2019 week 1 (6 days)*')\n",
    "\n",
    "# 2019 has week 53 (2 days) and 2020 has week 1 (5 days) => add 2019-53 to 2020-1 and discard 2019-53\n",
    "df = add_discard(df, '2019 week 53 (2 days)*', '2020 week 1 (5 days)*')"
   ]
  },
  {
   "cell_type": "code",
   "execution_count": 6,
   "metadata": {},
   "outputs": [
    {
     "name": "stdout",
     "output_type": "stream",
     "text": [
      "(12, 6)\n",
      "(10, 6)\n"
     ]
    }
   ],
   "source": [
    "print(df[df.deaths != df.aantal].shape)\n",
    "print(df[df.special != ''].shape)\n",
    "# df.to_csv('./total_death/week_harmonized.csv', index=False)"
   ]
  },
  {
   "cell_type": "code",
   "execution_count": 7,
   "metadata": {},
   "outputs": [],
   "source": [
    "df = df[['year', 'week', 'deaths']]"
   ]
  },
  {
   "cell_type": "code",
   "execution_count": 8,
   "metadata": {},
   "outputs": [],
   "source": [
    "df['week'] = df.week.astype(int)\n",
    "df.index = [df.week, df.year]\n",
    "df = df.drop(['year', 'week'], axis=1)\n",
    "df = df.unstack()\n",
    "df.columns = df.columns.droplevel()\n",
    "df.reset_index(inplace=True)\n",
    "df.columns = ['week'] + ['{}'.format(yr) for yr in range(1995, 2021)]\n",
    "df = df[['week'] + ['{}'.format(yr) for yr in range(2015, 2021)]]\n",
    "# df = df[~pd.isnull(df['2020'])].reset_index(drop=True).copy(deep=True)"
   ]
  },
  {
   "cell_type": "markdown",
   "metadata": {},
   "source": [
    "## 1.2) Consistency-checking processed data with data from second (already formated) source\n",
    "\n",
    "https://www.cbs.nl/nl-nl/nieuws/2020/15/sterfte-neemt-verder-toe"
   ]
  },
  {
   "cell_type": "code",
   "execution_count": 9,
   "metadata": {},
   "outputs": [],
   "source": [
    "consist = pd.read_csv('./total_death/table_tabel-92cc6968-d135-414b-99dd-8a9ff5e7a8b9.csv')"
   ]
  },
  {
   "cell_type": "code",
   "execution_count": 10,
   "metadata": {},
   "outputs": [],
   "source": [
    "consist = consist.iloc[:15,1:]\n",
    "cols = ['c_{}'.format(yr) for yr in range(2017, 2021)]\n",
    "consist.columns = cols\n",
    "consist['week'] = np.arange(1,16)\n",
    "consist = consist[['week'] + cols]"
   ]
  },
  {
   "cell_type": "code",
   "execution_count": 11,
   "metadata": {},
   "outputs": [
    {
     "data": {
      "text/html": [
       "<div>\n",
       "<style scoped>\n",
       "    .dataframe tbody tr th:only-of-type {\n",
       "        vertical-align: middle;\n",
       "    }\n",
       "\n",
       "    .dataframe tbody tr th {\n",
       "        vertical-align: top;\n",
       "    }\n",
       "\n",
       "    .dataframe thead th {\n",
       "        text-align: right;\n",
       "    }\n",
       "</style>\n",
       "<table border=\"1\" class=\"dataframe\">\n",
       "  <thead>\n",
       "    <tr style=\"text-align: right;\">\n",
       "      <th></th>\n",
       "      <th>week</th>\n",
       "      <th>2015</th>\n",
       "      <th>2016</th>\n",
       "      <th>2017</th>\n",
       "      <th>2018</th>\n",
       "      <th>2019</th>\n",
       "      <th>2020</th>\n",
       "      <th>c_2017</th>\n",
       "      <th>c_2018</th>\n",
       "      <th>c_2019</th>\n",
       "      <th>c_2020</th>\n",
       "      <th>d_2017</th>\n",
       "      <th>d_2018</th>\n",
       "      <th>d_2019</th>\n",
       "      <th>d_2020</th>\n",
       "    </tr>\n",
       "  </thead>\n",
       "  <tbody>\n",
       "    <tr>\n",
       "      <th>0</th>\n",
       "      <td>1</td>\n",
       "      <td>3255.0</td>\n",
       "      <td>3173.0</td>\n",
       "      <td>3568.0</td>\n",
       "      <td>3343.0</td>\n",
       "      <td>3062.0</td>\n",
       "      <td>3094.0</td>\n",
       "      <td>3568.0</td>\n",
       "      <td>3343.0</td>\n",
       "      <td>3064.0</td>\n",
       "      <td>3099.0</td>\n",
       "      <td>0.0</td>\n",
       "      <td>0.0</td>\n",
       "      <td>-2.0</td>\n",
       "      <td>-5.0</td>\n",
       "    </tr>\n",
       "    <tr>\n",
       "      <th>1</th>\n",
       "      <td>2</td>\n",
       "      <td>3429.0</td>\n",
       "      <td>3075.0</td>\n",
       "      <td>3637.0</td>\n",
       "      <td>3359.0</td>\n",
       "      <td>3262.0</td>\n",
       "      <td>3364.0</td>\n",
       "      <td>3637.0</td>\n",
       "      <td>3359.0</td>\n",
       "      <td>3261.0</td>\n",
       "      <td>3364.0</td>\n",
       "      <td>0.0</td>\n",
       "      <td>0.0</td>\n",
       "      <td>1.0</td>\n",
       "      <td>0.0</td>\n",
       "    </tr>\n",
       "    <tr>\n",
       "      <th>2</th>\n",
       "      <td>3</td>\n",
       "      <td>3377.0</td>\n",
       "      <td>3062.0</td>\n",
       "      <td>3487.0</td>\n",
       "      <td>3364.0</td>\n",
       "      <td>3150.0</td>\n",
       "      <td>3151.0</td>\n",
       "      <td>3487.0</td>\n",
       "      <td>3364.0</td>\n",
       "      <td>3153.0</td>\n",
       "      <td>3151.0</td>\n",
       "      <td>0.0</td>\n",
       "      <td>0.0</td>\n",
       "      <td>-3.0</td>\n",
       "      <td>0.0</td>\n",
       "    </tr>\n",
       "    <tr>\n",
       "      <th>3</th>\n",
       "      <td>4</td>\n",
       "      <td>3353.0</td>\n",
       "      <td>3201.0</td>\n",
       "      <td>3626.0</td>\n",
       "      <td>3322.0</td>\n",
       "      <td>3178.0</td>\n",
       "      <td>3040.0</td>\n",
       "      <td>3626.0</td>\n",
       "      <td>3322.0</td>\n",
       "      <td>3179.0</td>\n",
       "      <td>3040.0</td>\n",
       "      <td>0.0</td>\n",
       "      <td>0.0</td>\n",
       "      <td>-1.0</td>\n",
       "      <td>0.0</td>\n",
       "    </tr>\n",
       "    <tr>\n",
       "      <th>4</th>\n",
       "      <td>5</td>\n",
       "      <td>3322.0</td>\n",
       "      <td>3103.0</td>\n",
       "      <td>3574.0</td>\n",
       "      <td>3403.0</td>\n",
       "      <td>3143.0</td>\n",
       "      <td>3157.0</td>\n",
       "      <td>3574.0</td>\n",
       "      <td>3403.0</td>\n",
       "      <td>3144.0</td>\n",
       "      <td>3157.0</td>\n",
       "      <td>0.0</td>\n",
       "      <td>0.0</td>\n",
       "      <td>-1.0</td>\n",
       "      <td>0.0</td>\n",
       "    </tr>\n",
       "    <tr>\n",
       "      <th>5</th>\n",
       "      <td>6</td>\n",
       "      <td>3272.0</td>\n",
       "      <td>3036.0</td>\n",
       "      <td>3446.0</td>\n",
       "      <td>3513.0</td>\n",
       "      <td>3185.0</td>\n",
       "      <td>3188.0</td>\n",
       "      <td>3446.0</td>\n",
       "      <td>3513.0</td>\n",
       "      <td>3185.0</td>\n",
       "      <td>3188.0</td>\n",
       "      <td>0.0</td>\n",
       "      <td>0.0</td>\n",
       "      <td>0.0</td>\n",
       "      <td>0.0</td>\n",
       "    </tr>\n",
       "    <tr>\n",
       "      <th>6</th>\n",
       "      <td>7</td>\n",
       "      <td>3311.0</td>\n",
       "      <td>3027.0</td>\n",
       "      <td>3417.0</td>\n",
       "      <td>3660.0</td>\n",
       "      <td>3252.0</td>\n",
       "      <td>3195.0</td>\n",
       "      <td>3417.0</td>\n",
       "      <td>3660.0</td>\n",
       "      <td>3253.0</td>\n",
       "      <td>3195.0</td>\n",
       "      <td>0.0</td>\n",
       "      <td>0.0</td>\n",
       "      <td>-1.0</td>\n",
       "      <td>0.0</td>\n",
       "    </tr>\n",
       "    <tr>\n",
       "      <th>7</th>\n",
       "      <td>8</td>\n",
       "      <td>3381.0</td>\n",
       "      <td>3319.0</td>\n",
       "      <td>3328.0</td>\n",
       "      <td>3691.0</td>\n",
       "      <td>3222.0</td>\n",
       "      <td>2953.0</td>\n",
       "      <td>3328.0</td>\n",
       "      <td>3691.0</td>\n",
       "      <td>3223.0</td>\n",
       "      <td>2953.0</td>\n",
       "      <td>0.0</td>\n",
       "      <td>0.0</td>\n",
       "      <td>-1.0</td>\n",
       "      <td>0.0</td>\n",
       "    </tr>\n",
       "    <tr>\n",
       "      <th>8</th>\n",
       "      <td>9</td>\n",
       "      <td>3207.0</td>\n",
       "      <td>3185.0</td>\n",
       "      <td>3152.0</td>\n",
       "      <td>3937.0</td>\n",
       "      <td>3066.0</td>\n",
       "      <td>3087.0</td>\n",
       "      <td>3152.0</td>\n",
       "      <td>3937.0</td>\n",
       "      <td>3066.0</td>\n",
       "      <td>3087.0</td>\n",
       "      <td>0.0</td>\n",
       "      <td>0.0</td>\n",
       "      <td>0.0</td>\n",
       "      <td>0.0</td>\n",
       "    </tr>\n",
       "    <tr>\n",
       "      <th>9</th>\n",
       "      <td>10</td>\n",
       "      <td>3222.0</td>\n",
       "      <td>3151.0</td>\n",
       "      <td>3054.0</td>\n",
       "      <td>4092.0</td>\n",
       "      <td>3171.0</td>\n",
       "      <td>3092.0</td>\n",
       "      <td>3054.0</td>\n",
       "      <td>4092.0</td>\n",
       "      <td>3172.0</td>\n",
       "      <td>3092.0</td>\n",
       "      <td>0.0</td>\n",
       "      <td>0.0</td>\n",
       "      <td>-1.0</td>\n",
       "      <td>0.0</td>\n",
       "    </tr>\n",
       "    <tr>\n",
       "      <th>10</th>\n",
       "      <td>11</td>\n",
       "      <td>3086.0</td>\n",
       "      <td>3062.0</td>\n",
       "      <td>2843.0</td>\n",
       "      <td>3733.0</td>\n",
       "      <td>3227.0</td>\n",
       "      <td>3211.0</td>\n",
       "      <td>2843.0</td>\n",
       "      <td>3733.0</td>\n",
       "      <td>3228.0</td>\n",
       "      <td>3211.0</td>\n",
       "      <td>0.0</td>\n",
       "      <td>0.0</td>\n",
       "      <td>-1.0</td>\n",
       "      <td>0.0</td>\n",
       "    </tr>\n",
       "    <tr>\n",
       "      <th>11</th>\n",
       "      <td>12</td>\n",
       "      <td>3052.0</td>\n",
       "      <td>3028.0</td>\n",
       "      <td>2778.0</td>\n",
       "      <td>3430.0</td>\n",
       "      <td>3042.0</td>\n",
       "      <td>3593.0</td>\n",
       "      <td>2778.0</td>\n",
       "      <td>3430.0</td>\n",
       "      <td>3043.0</td>\n",
       "      <td>3593.0</td>\n",
       "      <td>0.0</td>\n",
       "      <td>0.0</td>\n",
       "      <td>-1.0</td>\n",
       "      <td>0.0</td>\n",
       "    </tr>\n",
       "    <tr>\n",
       "      <th>12</th>\n",
       "      <td>13</td>\n",
       "      <td>3084.0</td>\n",
       "      <td>3037.0</td>\n",
       "      <td>2850.0</td>\n",
       "      <td>3225.0</td>\n",
       "      <td>3013.0</td>\n",
       "      <td>4432.0</td>\n",
       "      <td>2850.0</td>\n",
       "      <td>3225.0</td>\n",
       "      <td>3014.0</td>\n",
       "      <td>4432.0</td>\n",
       "      <td>0.0</td>\n",
       "      <td>0.0</td>\n",
       "      <td>-1.0</td>\n",
       "      <td>0.0</td>\n",
       "    </tr>\n",
       "    <tr>\n",
       "      <th>13</th>\n",
       "      <td>14</td>\n",
       "      <td>2839.0</td>\n",
       "      <td>3010.0</td>\n",
       "      <td>2764.0</td>\n",
       "      <td>3040.0</td>\n",
       "      <td>2900.0</td>\n",
       "      <td>5037.0</td>\n",
       "      <td>2764.0</td>\n",
       "      <td>3040.0</td>\n",
       "      <td>2900.0</td>\n",
       "      <td>5037.0</td>\n",
       "      <td>0.0</td>\n",
       "      <td>0.0</td>\n",
       "      <td>0.0</td>\n",
       "      <td>0.0</td>\n",
       "    </tr>\n",
       "    <tr>\n",
       "      <th>14</th>\n",
       "      <td>15</td>\n",
       "      <td>2888.0</td>\n",
       "      <td>2767.0</td>\n",
       "      <td>2810.0</td>\n",
       "      <td>2860.0</td>\n",
       "      <td>2900.0</td>\n",
       "      <td>NaN</td>\n",
       "      <td>2810.0</td>\n",
       "      <td>2860.0</td>\n",
       "      <td>2901.0</td>\n",
       "      <td>5036.0</td>\n",
       "      <td>0.0</td>\n",
       "      <td>0.0</td>\n",
       "      <td>-1.0</td>\n",
       "      <td>NaN</td>\n",
       "    </tr>\n",
       "  </tbody>\n",
       "</table>\n",
       "</div>"
      ],
      "text/plain": [
       "    week    2015    2016    2017    2018    2019    2020  c_2017  c_2018  \\\n",
       "0      1  3255.0  3173.0  3568.0  3343.0  3062.0  3094.0  3568.0  3343.0   \n",
       "1      2  3429.0  3075.0  3637.0  3359.0  3262.0  3364.0  3637.0  3359.0   \n",
       "2      3  3377.0  3062.0  3487.0  3364.0  3150.0  3151.0  3487.0  3364.0   \n",
       "3      4  3353.0  3201.0  3626.0  3322.0  3178.0  3040.0  3626.0  3322.0   \n",
       "4      5  3322.0  3103.0  3574.0  3403.0  3143.0  3157.0  3574.0  3403.0   \n",
       "5      6  3272.0  3036.0  3446.0  3513.0  3185.0  3188.0  3446.0  3513.0   \n",
       "6      7  3311.0  3027.0  3417.0  3660.0  3252.0  3195.0  3417.0  3660.0   \n",
       "7      8  3381.0  3319.0  3328.0  3691.0  3222.0  2953.0  3328.0  3691.0   \n",
       "8      9  3207.0  3185.0  3152.0  3937.0  3066.0  3087.0  3152.0  3937.0   \n",
       "9     10  3222.0  3151.0  3054.0  4092.0  3171.0  3092.0  3054.0  4092.0   \n",
       "10    11  3086.0  3062.0  2843.0  3733.0  3227.0  3211.0  2843.0  3733.0   \n",
       "11    12  3052.0  3028.0  2778.0  3430.0  3042.0  3593.0  2778.0  3430.0   \n",
       "12    13  3084.0  3037.0  2850.0  3225.0  3013.0  4432.0  2850.0  3225.0   \n",
       "13    14  2839.0  3010.0  2764.0  3040.0  2900.0  5037.0  2764.0  3040.0   \n",
       "14    15  2888.0  2767.0  2810.0  2860.0  2900.0     NaN  2810.0  2860.0   \n",
       "\n",
       "    c_2019  c_2020  d_2017  d_2018  d_2019  d_2020  \n",
       "0   3064.0  3099.0     0.0     0.0    -2.0    -5.0  \n",
       "1   3261.0  3364.0     0.0     0.0     1.0     0.0  \n",
       "2   3153.0  3151.0     0.0     0.0    -3.0     0.0  \n",
       "3   3179.0  3040.0     0.0     0.0    -1.0     0.0  \n",
       "4   3144.0  3157.0     0.0     0.0    -1.0     0.0  \n",
       "5   3185.0  3188.0     0.0     0.0     0.0     0.0  \n",
       "6   3253.0  3195.0     0.0     0.0    -1.0     0.0  \n",
       "7   3223.0  2953.0     0.0     0.0    -1.0     0.0  \n",
       "8   3066.0  3087.0     0.0     0.0     0.0     0.0  \n",
       "9   3172.0  3092.0     0.0     0.0    -1.0     0.0  \n",
       "10  3228.0  3211.0     0.0     0.0    -1.0     0.0  \n",
       "11  3043.0  3593.0     0.0     0.0    -1.0     0.0  \n",
       "12  3014.0  4432.0     0.0     0.0    -1.0     0.0  \n",
       "13  2900.0  5037.0     0.0     0.0     0.0     0.0  \n",
       "14  2901.0  5036.0     0.0     0.0    -1.0     NaN  "
      ]
     },
     "execution_count": 11,
     "metadata": {},
     "output_type": "execute_result"
    }
   ],
   "source": [
    "df = pd.merge(df, consist, on='week', how='right')\n",
    "for yr in range(2017, 2021):\n",
    "    df['d_{}'.format(yr)] = df['{}'.format(yr)] - df['c_{}'.format(yr)]\n",
    "df"
   ]
  },
  {
   "cell_type": "code",
   "execution_count": 12,
   "metadata": {},
   "outputs": [],
   "source": [
    "for yr in range(2017, 2020):\n",
    "    del df['c_{}'.format(yr)]\n",
    "for yr in range(2017, 2021):\n",
    "    del df['d_{}'.format(yr)]\n",
    "del df['2020']\n",
    "df.columns = ['week'] + ['{}'.format(yr) for yr in range(2015, 2021)]"
   ]
  },
  {
   "cell_type": "markdown",
   "metadata": {},
   "source": [
    "## 1.3) Constructing countefactual"
   ]
  },
  {
   "cell_type": "markdown",
   "metadata": {},
   "source": [
    "first official covid-19 death is in week 10 $\\to$ discard all observations before week 9"
   ]
  },
  {
   "cell_type": "code",
   "execution_count": 13,
   "metadata": {},
   "outputs": [],
   "source": [
    "df = df[df.week >= 9].reset_index(drop=True).copy(deep=True)"
   ]
  },
  {
   "cell_type": "markdown",
   "metadata": {},
   "source": [
    "computing cumulative sums"
   ]
  },
  {
   "cell_type": "code",
   "execution_count": 14,
   "metadata": {},
   "outputs": [],
   "source": [
    "for yr in range(2015, 2021):\n",
    "    df['cs_{}'.format(yr)] = df['{}'.format(yr)].cumsum()\n",
    "    del df['{}'.format(yr)]"
   ]
  },
  {
   "cell_type": "markdown",
   "metadata": {},
   "source": [
    "computing daily growth rates"
   ]
  },
  {
   "cell_type": "code",
   "execution_count": 15,
   "metadata": {},
   "outputs": [],
   "source": [
    "for yr in range(2015, 2020):\n",
    "    df['gr_{}'.format(yr)] = df['cs_{}'.format(yr)] / df['cs_{}'.format(yr)].shift(1)\n",
    "    del df['cs_{}'.format(yr)]"
   ]
  },
  {
   "cell_type": "markdown",
   "metadata": {},
   "source": [
    "computing average of daily growth rates 15-19"
   ]
  },
  {
   "cell_type": "code",
   "execution_count": 16,
   "metadata": {},
   "outputs": [],
   "source": [
    "df['daily_growth'] = df.loc[:,['gr_{}'.format(yr) for yr in range(2015,2020)]].mean(axis=1)\n",
    "df = df.drop(['gr_{}'.format(yr) for yr in range(2015,2020)], axis=1)"
   ]
  },
  {
   "cell_type": "markdown",
   "metadata": {},
   "source": [
    "extrapolating forward"
   ]
  },
  {
   "cell_type": "code",
   "execution_count": 17,
   "metadata": {},
   "outputs": [],
   "source": [
    "df['counterfactual'] = 0\n",
    "df.loc[0,'counterfactual'] = df.loc[df.week==9,'cs_2020'].values[0]"
   ]
  },
  {
   "cell_type": "code",
   "execution_count": 18,
   "metadata": {},
   "outputs": [],
   "source": [
    "for i in range(1, df.shape[0]):\n",
    "    df.loc[i,'counterfactual'] = df.loc[i-1,'counterfactual'] * df.loc[i,'daily_growth']"
   ]
  },
  {
   "cell_type": "code",
   "execution_count": 19,
   "metadata": {},
   "outputs": [],
   "source": [
    "df = df.drop(['daily_growth'], axis=1)"
   ]
  },
  {
   "cell_type": "markdown",
   "metadata": {},
   "source": [
    "# 2) Processing the official Covid-19 death data"
   ]
  },
  {
   "cell_type": "code",
   "execution_count": 20,
   "metadata": {},
   "outputs": [],
   "source": [
    "official = pd.read_csv('./covid_deaths/overledenen-per-dag.csv', sep=';')\n",
    "cal = pd.read_csv('./covid_deaths/day_month_week_2020.csv')"
   ]
  },
  {
   "cell_type": "code",
   "execution_count": 21,
   "metadata": {},
   "outputs": [],
   "source": [
    "official['covid_deaths'] = official['nieuw'] + official['tot en met gisteren']\n",
    "official['str_mon'] = official['Datum van overlijden'].apply(lambda x: re.search('[0-9]+\\s([a-z]{3})', x).group(1))\n",
    "official['month'] = 0\n",
    "official.loc[official.str_mon=='feb', 'month'] = 2\n",
    "official.loc[official.str_mon=='mrt', 'month'] = 3\n",
    "official.loc[official.str_mon=='apr', 'month'] = 4\n",
    "official['day'] = official['Datum van overlijden'].apply(lambda x: int(re.search('([0-9]+)\\s.+', x).group(1)))\n",
    "official = official[['day', 'month', 'covid_deaths']]\n",
    "official = pd.merge(cal, official, on=['day', 'month'], how='inner')\n",
    "official['day'] = ('0' + official.day.astype('str')).str[-2:]\n",
    "official['month'] = ('0' + official.month.astype('str')).str[-2:]\n",
    "official['date'] = '2020-' + official.month + '-' + official.day\n",
    "official = official[['week', 'date', 'covid_deaths']]\n",
    "wks = official[['week', 'date']]\n",
    "wks = wks.groupby('week').last().reset_index(drop=False).copy(deep=True)\n",
    "official = official.groupby('week').sum()\n",
    "official.reset_index(inplace=True)\n",
    "official['covid_deaths'] = official.covid_deaths.cumsum()\n",
    "official = pd.merge(official, wks, on=['week'], how='inner')"
   ]
  },
  {
   "cell_type": "markdown",
   "metadata": {},
   "source": [
    "# 3) Merging and plotting"
   ]
  },
  {
   "cell_type": "code",
   "execution_count": 22,
   "metadata": {},
   "outputs": [],
   "source": [
    "df = pd.merge(df, official, on=['week'], how='left')\n",
    "df = df.fillna(0)\n",
    "df['counterfactual_2020_covid'] = df.counterfactual + df.covid_deaths\n",
    "df = df.drop(['covid_deaths', 'week'], axis=1)\n",
    "df.index = df.date\n",
    "del df['date']"
   ]
  },
  {
   "cell_type": "code",
   "execution_count": 23,
   "metadata": {},
   "outputs": [
    {
     "data": {
      "image/png": "[encoded data removed]",
      "text/plain": [
       "<Figure size 720x432 with 1 Axes>"
      ]
     },
     "metadata": {
      "needs_background": "light"
     },
     "output_type": "display_data"
    }
   ],
   "source": [
    "palette = sns.color_palette()\n",
    "\n",
    "f = plt.figure(figsize=(10,6))\n",
    "ax = plt.subplot(1,1,1)\n",
    "\n",
    "ax.plot(df.index,\n",
    "        df['cs_2020'],\n",
    "        label='2020',\n",
    "        color='black')\n",
    "ax.plot(df.index,\n",
    "        df['counterfactual_2020_covid'],\n",
    "        label='2020 counterfactual with only Covid-19 official deaths',\n",
    "        color = palette[1])\n",
    "ax.plot(df.index,\n",
    "        df['counterfactual'],\n",
    "        label='2020 counterfactual without Covid-19',\n",
    "        color='black', \n",
    "        linestyle = '--')\n",
    "\n",
    "ax.set_xticks(df.index[[0,1,2,3,4,5,6]])\n",
    "ax.fill_between(df.index, df['cs_2020'], df['counterfactual_2020_covid'], color='black', alpha='0.2')\n",
    "ax.fill_between(df.index, df['counterfactual_2020_covid'], df['counterfactual'], color='green', alpha='0.2')\n",
    "\n",
    "ax.set_ylabel('Cumulative number of deaths since\\nweek ending March 1st',size=12)\n",
    "ax.tick_params(axis='both', which='major', labelsize=12)\n",
    "\n",
    "ax.legend(loc='upper left',\n",
    "          fontsize=12)\n",
    "\n",
    "plot_margin = 0.5\n",
    "\n",
    "x0, x1, y0, y1 = plt.axis()\n",
    "plt.axis((x0,\n",
    "          x1 + plot_margin,\n",
    "          y0,\n",
    "          y1))\n",
    "\n",
    "plt.text(6.2, 21500, '{}'.format(int(round(df.iloc[-1, 2] - df.iloc[-1, 1]))),\n",
    "         bbox=dict(facecolor=palette[1], alpha=0.2), size=12)\n",
    "\n",
    "\n",
    "plt.text(6.2, 25000, '{}'.format(int(round(df.iloc[-1, 0] - df.iloc[-1, 2]))),\n",
    "         bbox=dict(facecolor='black', alpha=0.2), size=12)\n",
    "\n",
    "plt.show()\n",
    "\n",
    "f.savefig('_netherlands.pdf', bbox_inches='tight', dpi=100)"
   ]
  },
  {
   "cell_type": "code",
   "execution_count": 24,
   "metadata": {},
   "outputs": [
    {
     "name": "stdout",
     "output_type": "stream",
     "text": [
      "Official covid-deaths: 3062.0 = green - dashed black\n",
      "Excess deaths: 7191.0 = solid black - dashed black\n",
      "Unexplained excess deaths: 4129.0 = solid black - green\n"
     ]
    }
   ],
   "source": [
    "print('Official covid-deaths: {} = green - dashed black'.format(round(df.iloc[-1, 2] - df.iloc[-1, 1])))\n",
    "print('Excess deaths: {} = solid black - dashed black'.format(round(df.iloc[-1, 0] - df.iloc[-1, 1])))\n",
    "print('Unexplained excess deaths: {} = solid black - green'.format(round(df.iloc[-1, 0] - df.iloc[-1, 2])))"
   ]
  }
 ],
 "metadata": {
  "kernelspec": {
   "display_name": "Python 3",
   "language": "python",
   "name": "python3"
  },
  "language_info": {
   "codemirror_mode": {
    "name": "ipython",
    "version": 3
   },
   "file_extension": ".py",
   "mimetype": "text/x-python",
   "name": "python",
   "nbconvert_exporter": "python",
   "pygments_lexer": "ipython3",
   "version": "3.6.9"
  }
 },
 "nbformat": 4,
 "nbformat_minor": 4
}
