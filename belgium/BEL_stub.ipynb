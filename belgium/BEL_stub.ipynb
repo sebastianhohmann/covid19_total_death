{
 "cells": [
  {
   "cell_type": "markdown",
   "metadata": {},
   "source": [
    "- Statbel publishes daily data on all-cause mortality for 2008-2018 here: https://statbel.fgov.be/nl/open-data/aantal-sterfgevallen-dag\n",
    "\n",
    "- Official data on covid-19 mortality can be found here: https://epistat.wiv-isp.be/covid/\n",
    "\n",
    "- Since all-cause mortality data for 2019 and especially 2020 are not available, we cannot run our analsysis. \n",
    "\n",
    "- An interesting aspect in the Belgian case is that Belgium has a famously aggressive way it counts Covid-19 deaths (see, e.g. here: https://www.newsweek.com/belgium-highest-covid-19-death-rate-1498021 ). This can be readily seen in the following graph published by Statbel, which shows that Covid-19 deaths per day are, from April 6th to 16th, equal to the total number of deaths per day, on average, for the period 2009-2018: https://www.newsweek.com/belgium-highest-covid-19-death-rate-1498021 "
   ]
  }
 ],
 "metadata": {
  "kernelspec": {
   "display_name": "Python 3",
   "language": "python",
   "name": "python3"
  },
  "language_info": {
   "codemirror_mode": {
    "name": "ipython",
    "version": 3
   },
   "file_extension": ".py",
   "mimetype": "text/x-python",
   "name": "python",
   "nbconvert_exporter": "python",
   "pygments_lexer": "ipython3",
   "version": "3.6.9"
  }
 },
 "nbformat": 4,
 "nbformat_minor": 4
}
