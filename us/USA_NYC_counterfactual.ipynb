{
 "cells": [
  {
   "cell_type": "code",
   "execution_count": 1,
   "metadata": {},
   "outputs": [
    {
     "name": "stderr",
     "output_type": "stream",
     "text": [
      "/home/seb/py36/lib/python3.6/site-packages/statsmodels/tools/_testing.py:19: FutureWarning: pandas.util.testing is deprecated. Use the functions in the public API at pandas.testing instead.\n",
      "  import pandas.util.testing as tm\n"
     ]
    }
   ],
   "source": [
    "import re\n",
    "import numpy as np\n",
    "import pandas as pd\n",
    "import matplotlib.pyplot as plt\n",
    "import matplotlib as mpl\n",
    "plt.style.use('seaborn')\n",
    "mpl.rcParams['font.family'] = 'serif'\n",
    "%matplotlib inline\n",
    "import seaborn as sns"
   ]
  },
  {
   "cell_type": "markdown",
   "metadata": {},
   "source": [
    "**The US data situation is complicated.** \n",
    "\n",
    "- CDC makes available weekly data on Covid-19 deaths and all-cause mortality for a few weeks in 2020 here: https://www.cdc.gov/nchs/nvss/vsrr/COVID19/index.htm. These data suffer from significant reporting delay. \n",
    "\n",
    "- CDC also makes available (through one of their systems called \"Fluview\") weekly data on all-cause mortality going back to 2013. https://gis.cdc.gov/grasp/fluview/mortality.html. These data have varying degrees of completeness depending on date, with the most recent data showing more incompleteness. The CDC data are also disaggregated by State (again showing percentage completeness) and even give figures for NYC, which is why we can do our analysis there. NYC has the advantage of having more complete data for more recent times in 2020. To make sense of the dates in the CDC data (which are reported by \"season\"), we also use the data here: https://www.cdc.gov/flu/weekly/#S2 $\\to$ Pneumonia and Influenza (P&I) Mortality Surveillance $\\to$ View Chart Data. \n",
    "\n",
    "- Finally, NYC data on Covid-19 fatalities are reported here: https://www1.nyc.gov/site/doh/covid/covid-19-data.page\n",
    "\n",
    "**IMPORTANT** Currently, the national data still suffer from reporting delays too severe to run our analysis. For New York City, the most severely affected area, we can run our analysis until week 15 (ending April 11th) as the CDC reports 100% complete data there."
   ]
  },
  {
   "cell_type": "markdown",
   "metadata": {},
   "source": [
    "# 1) Data wrangling and exploration"
   ]
  },
  {
   "cell_type": "markdown",
   "metadata": {},
   "source": [
    "## 1.1) Getting the national fluview data and lining up the dates"
   ]
  },
  {
   "cell_type": "code",
   "execution_count": 2,
   "metadata": {},
   "outputs": [],
   "source": [
    "fluview_seasonal_national = pd.read_csv('./data/National_Custom_Data.csv')[['SEASON', 'WEEK', 'TOTAL DEATHS', 'PERCENT COMPLETE']]"
   ]
  },
  {
   "cell_type": "code",
   "execution_count": 3,
   "metadata": {},
   "outputs": [],
   "source": [
    "fluview_seasonal_national['y1'] = fluview_seasonal_national['SEASON'].str[:4]\n",
    "fluview_seasonal_national['y2'] = '20' + fluview_seasonal_national['SEASON'].str[5:]\n",
    "fluview_seasonal_national['year'] = '0'\n",
    "fluview_seasonal_national.loc[fluview_seasonal_national.WEEK >= 40, 'year'] = fluview_seasonal_national.y1\n",
    "fluview_seasonal_national.loc[fluview_seasonal_national.WEEK < 40, 'year'] = fluview_seasonal_national.y2\n",
    "fluview_seasonal_national['complete'] = fluview_seasonal_national['PERCENT COMPLETE'].apply(lambda x: re.search('([0-9]+.*?[0-9])', x).group(1))\n",
    "fluview_seasonal_national['total_deaths'] = fluview_seasonal_national['TOTAL DEATHS'].apply(lambda x: re.sub(',', '', x)).astype('int')\n",
    "fluview_seasonal_national = fluview_seasonal_national[['year', 'WEEK', 'complete', 'total_deaths']]\n",
    "fluview_seasonal_national.columns = ['year', 'week', 'complete', 'total_deaths_fv']\n",
    "fluview_seasonal_national = fluview_seasonal_national.sort_values(['year', 'week']).reset_index(drop=True).copy(deep=True)\n",
    "fluview_seasonal_national['year'] = fluview_seasonal_national['year'].astype('int')"
   ]
  },
  {
   "cell_type": "markdown",
   "metadata": {},
   "source": [
    "## 1.2 Checking that date-lineup was done correctly"
   ]
  },
  {
   "cell_type": "code",
   "execution_count": 4,
   "metadata": {},
   "outputs": [],
   "source": [
    "fluview_annual_national = pd.read_csv('./data/NCHSData16.csv')"
   ]
  },
  {
   "cell_type": "code",
   "execution_count": 5,
   "metadata": {},
   "outputs": [],
   "source": [
    "fluview_annual_national = fluview_annual_national[['Year', 'Week', 'All Deaths']]\n",
    "fluview_annual_national.columns = ['year', 'week', 'total_check']"
   ]
  },
  {
   "cell_type": "code",
   "execution_count": 6,
   "metadata": {},
   "outputs": [
    {
     "name": "stdout",
     "output_type": "stream",
     "text": [
      "both          342\n",
      "right_only      0\n",
      "left_only       0\n",
      "Name: _merge, dtype: int64\n"
     ]
    }
   ],
   "source": [
    "fluview_national = pd.merge(fluview_seasonal_national, fluview_annual_national, on=['year', 'week'], how='outer', indicator=True)\n",
    "print(fluview_national._merge.value_counts())\n",
    "del fluview_national['_merge']"
   ]
  },
  {
   "cell_type": "code",
   "execution_count": 7,
   "metadata": {},
   "outputs": [
    {
     "data": {
      "text/html": [
       "<div>\n",
       "<style scoped>\n",
       "    .dataframe tbody tr th:only-of-type {\n",
       "        vertical-align: middle;\n",
       "    }\n",
       "\n",
       "    .dataframe tbody tr th {\n",
       "        vertical-align: top;\n",
       "    }\n",
       "\n",
       "    .dataframe thead th {\n",
       "        text-align: right;\n",
       "    }\n",
       "</style>\n",
       "<table border=\"1\" class=\"dataframe\">\n",
       "  <thead>\n",
       "    <tr style=\"text-align: right;\">\n",
       "      <th></th>\n",
       "      <th>year</th>\n",
       "      <th>week</th>\n",
       "      <th>complete</th>\n",
       "      <th>total_deaths_fv</th>\n",
       "      <th>total_check</th>\n",
       "    </tr>\n",
       "  </thead>\n",
       "  <tbody>\n",
       "  </tbody>\n",
       "</table>\n",
       "</div>"
      ],
      "text/plain": [
       "Empty DataFrame\n",
       "Columns: [year, week, complete, total_deaths_fv, total_check]\n",
       "Index: []"
      ]
     },
     "execution_count": 7,
     "metadata": {},
     "output_type": "execute_result"
    }
   ],
   "source": [
    "fluview_national[fluview_national.total_deaths_fv != fluview_national.total_check]"
   ]
  },
  {
   "cell_type": "code",
   "execution_count": 8,
   "metadata": {},
   "outputs": [],
   "source": [
    "fluview_national = fluview_national[['year', 'week', 'complete', 'total_deaths_fv']].reset_index(drop=True).copy(deep=True)"
   ]
  },
  {
   "cell_type": "markdown",
   "metadata": {},
   "source": [
    "## 1.3 Adding the latest national figures on total and Covid deaths"
   ]
  },
  {
   "cell_type": "code",
   "execution_count": 9,
   "metadata": {},
   "outputs": [],
   "source": [
    "latest_national = pd.read_csv('./data/Provisional_Death_Counts_for_Coronavirus_Disease__COVID-19_.csv')"
   ]
  },
  {
   "cell_type": "markdown",
   "metadata": {},
   "source": [
    "How to line up the weeks with the dates? Here: https://www.cdc.gov/flu/weekly/#S2, the CDC says that \"11.4% of the deaths occurring **during the week ending April 18, 2020 (week 16)** were due to P&I\". So we can line up \"week 16\" in the fluview data with the week ending April 18th in the latest national data."
   ]
  },
  {
   "cell_type": "code",
   "execution_count": 10,
   "metadata": {},
   "outputs": [],
   "source": [
    "latest_national = latest_national.iloc[1:,:]\n",
    "latest_national = latest_national[latest_national.Group == 'By week']\n",
    "latest_national = latest_national[['End week', 'All COVID-19 Deaths (U07.1)', 'Deaths from All Causes']]\n",
    "latest_national['week'] = np.arange(5,18)\n",
    "latest_national.columns = ['date', 'covid_deaths', 'total_deaths_latest', 'week']"
   ]
  },
  {
   "cell_type": "code",
   "execution_count": 11,
   "metadata": {},
   "outputs": [],
   "source": [
    "latest_national['year'] = 2020\n",
    "latest_national = latest_national[['date', 'year', 'week', 'total_deaths_latest', 'covid_deaths']].copy(deep=True)\n",
    "latest_national['total_deaths_latest'] = latest_national['total_deaths_latest'].apply(lambda x: re.sub(',', '', x)).astype('int')\n",
    "latest_national['covid_deaths'] = latest_national['covid_deaths'].apply(lambda x: re.sub(',', '', x)).astype('int')"
   ]
  },
  {
   "cell_type": "markdown",
   "metadata": {},
   "source": [
    "merging with the fluview data"
   ]
  },
  {
   "cell_type": "code",
   "execution_count": 12,
   "metadata": {},
   "outputs": [],
   "source": [
    "nat = pd.merge(fluview_national, latest_national, on=['year', 'week'], how='outer')"
   ]
  },
  {
   "cell_type": "code",
   "execution_count": 13,
   "metadata": {},
   "outputs": [
    {
     "data": {
      "text/html": [
       "<div>\n",
       "<style scoped>\n",
       "    .dataframe tbody tr th:only-of-type {\n",
       "        vertical-align: middle;\n",
       "    }\n",
       "\n",
       "    .dataframe tbody tr th {\n",
       "        vertical-align: top;\n",
       "    }\n",
       "\n",
       "    .dataframe thead th {\n",
       "        text-align: right;\n",
       "    }\n",
       "</style>\n",
       "<table border=\"1\" class=\"dataframe\">\n",
       "  <thead>\n",
       "    <tr style=\"text-align: right;\">\n",
       "      <th></th>\n",
       "      <th>year</th>\n",
       "      <th>week</th>\n",
       "      <th>complete</th>\n",
       "      <th>total_deaths_fv</th>\n",
       "      <th>date</th>\n",
       "      <th>total_deaths_latest</th>\n",
       "      <th>covid_deaths</th>\n",
       "    </tr>\n",
       "  </thead>\n",
       "  <tbody>\n",
       "    <tr>\n",
       "      <th>332</th>\n",
       "      <td>2020</td>\n",
       "      <td>7</td>\n",
       "      <td>100</td>\n",
       "      <td>56339.0</td>\n",
       "      <td>02/15/2020</td>\n",
       "      <td>56523.0</td>\n",
       "      <td>0.0</td>\n",
       "    </tr>\n",
       "    <tr>\n",
       "      <th>333</th>\n",
       "      <td>2020</td>\n",
       "      <td>8</td>\n",
       "      <td>100</td>\n",
       "      <td>56039.0</td>\n",
       "      <td>02/22/2020</td>\n",
       "      <td>56295.0</td>\n",
       "      <td>0.0</td>\n",
       "    </tr>\n",
       "    <tr>\n",
       "      <th>334</th>\n",
       "      <td>2020</td>\n",
       "      <td>9</td>\n",
       "      <td>100</td>\n",
       "      <td>55638.0</td>\n",
       "      <td>02/29/2020</td>\n",
       "      <td>55999.0</td>\n",
       "      <td>5.0</td>\n",
       "    </tr>\n",
       "    <tr>\n",
       "      <th>335</th>\n",
       "      <td>2020</td>\n",
       "      <td>10</td>\n",
       "      <td>100</td>\n",
       "      <td>55173.0</td>\n",
       "      <td>03/07/2020</td>\n",
       "      <td>55562.0</td>\n",
       "      <td>25.0</td>\n",
       "    </tr>\n",
       "    <tr>\n",
       "      <th>336</th>\n",
       "      <td>2020</td>\n",
       "      <td>11</td>\n",
       "      <td>100</td>\n",
       "      <td>53239.0</td>\n",
       "      <td>03/14/2020</td>\n",
       "      <td>53606.0</td>\n",
       "      <td>49.0</td>\n",
       "    </tr>\n",
       "    <tr>\n",
       "      <th>337</th>\n",
       "      <td>2020</td>\n",
       "      <td>12</td>\n",
       "      <td>100</td>\n",
       "      <td>53130.0</td>\n",
       "      <td>03/21/2020</td>\n",
       "      <td>53553.0</td>\n",
       "      <td>478.0</td>\n",
       "    </tr>\n",
       "    <tr>\n",
       "      <th>338</th>\n",
       "      <td>2020</td>\n",
       "      <td>13</td>\n",
       "      <td>100</td>\n",
       "      <td>55778.0</td>\n",
       "      <td>03/28/2020</td>\n",
       "      <td>56567.0</td>\n",
       "      <td>2596.0</td>\n",
       "    </tr>\n",
       "    <tr>\n",
       "      <th>339</th>\n",
       "      <td>2020</td>\n",
       "      <td>14</td>\n",
       "      <td>100</td>\n",
       "      <td>60195.0</td>\n",
       "      <td>04/04/2020</td>\n",
       "      <td>62131.0</td>\n",
       "      <td>7586.0</td>\n",
       "    </tr>\n",
       "    <tr>\n",
       "      <th>340</th>\n",
       "      <td>2020</td>\n",
       "      <td>15</td>\n",
       "      <td>100</td>\n",
       "      <td>55773.0</td>\n",
       "      <td>04/11/2020</td>\n",
       "      <td>60783.0</td>\n",
       "      <td>10610.0</td>\n",
       "    </tr>\n",
       "    <tr>\n",
       "      <th>341</th>\n",
       "      <td>2020</td>\n",
       "      <td>16</td>\n",
       "      <td>59.6</td>\n",
       "      <td>28374.0</td>\n",
       "      <td>04/18/2020</td>\n",
       "      <td>40060.0</td>\n",
       "      <td>5864.0</td>\n",
       "    </tr>\n",
       "    <tr>\n",
       "      <th>342</th>\n",
       "      <td>2020</td>\n",
       "      <td>17</td>\n",
       "      <td>NaN</td>\n",
       "      <td>NaN</td>\n",
       "      <td>04/25/2020</td>\n",
       "      <td>8035.0</td>\n",
       "      <td>461.0</td>\n",
       "    </tr>\n",
       "  </tbody>\n",
       "</table>\n",
       "</div>"
      ],
      "text/plain": [
       "     year  week complete  total_deaths_fv        date  total_deaths_latest  \\\n",
       "332  2020     7      100          56339.0  02/15/2020              56523.0   \n",
       "333  2020     8      100          56039.0  02/22/2020              56295.0   \n",
       "334  2020     9      100          55638.0  02/29/2020              55999.0   \n",
       "335  2020    10      100          55173.0  03/07/2020              55562.0   \n",
       "336  2020    11      100          53239.0  03/14/2020              53606.0   \n",
       "337  2020    12      100          53130.0  03/21/2020              53553.0   \n",
       "338  2020    13      100          55778.0  03/28/2020              56567.0   \n",
       "339  2020    14      100          60195.0  04/04/2020              62131.0   \n",
       "340  2020    15      100          55773.0  04/11/2020              60783.0   \n",
       "341  2020    16     59.6          28374.0  04/18/2020              40060.0   \n",
       "342  2020    17      NaN              NaN  04/25/2020               8035.0   \n",
       "\n",
       "     covid_deaths  \n",
       "332           0.0  \n",
       "333           0.0  \n",
       "334           5.0  \n",
       "335          25.0  \n",
       "336          49.0  \n",
       "337         478.0  \n",
       "338        2596.0  \n",
       "339        7586.0  \n",
       "340       10610.0  \n",
       "341        5864.0  \n",
       "342         461.0  "
      ]
     },
     "execution_count": 13,
     "metadata": {},
     "output_type": "execute_result"
    }
   ],
   "source": [
    "nat.tail(11)"
   ]
  },
  {
   "cell_type": "code",
   "execution_count": 14,
   "metadata": {},
   "outputs": [],
   "source": [
    "nat['total_deaths'] = nat.total_deaths_fv\n",
    "nat.loc[~pd.isnull(nat.total_deaths_latest), 'total_deaths'] = nat.total_deaths_latest\n",
    "nat = nat[['date', 'year', 'week', 'total_deaths', 'covid_deaths']].copy(deep=True)"
   ]
  },
  {
   "cell_type": "markdown",
   "metadata": {},
   "source": [
    "## 1.4 Illustrating reporting delays at the national level"
   ]
  },
  {
   "cell_type": "code",
   "execution_count": 15,
   "metadata": {},
   "outputs": [],
   "source": [
    "df = nat[~pd.isnull(nat.date)].reset_index(drop=True).copy(deep=True)\n",
    "df['y'] = '2020'\n",
    "df['m'] = df.date.str[:2]\n",
    "df['d'] = ('0' + df.date.apply(lambda x: re.search('[0-9]/([0-9]+)/', x).group(1))).str[-2:]\n",
    "df['date'] = df.y + '-' + df.m + '-' + df.d\n",
    "df['date']  =  pd.to_datetime(df['date'] , format='%Y%m%d', errors='ignore')\n",
    "df = df[['date', 'total_deaths', 'covid_deaths']]\n",
    "df.index = df.date\n",
    "del df['date']"
   ]
  },
  {
   "cell_type": "code",
   "execution_count": 16,
   "metadata": {},
   "outputs": [
    {
     "data": {
      "image/png": "[encoded data removed]",
      "text/plain": [
       "<Figure size 720x432 with 2 Axes>"
      ]
     },
     "metadata": {
      "needs_background": "light"
     },
     "output_type": "display_data"
    }
   ],
   "source": [
    "palette = sns.color_palette()\n",
    "\n",
    "fig, ax1 = plt.subplots(figsize=(10, 6))\n",
    "\n",
    "ax2 = ax1.twinx()\n",
    "ax1.plot(df.index, df.total_deaths, label='total deaths (left y-axis)', color=palette[2])\n",
    "ax2.plot(df.index, df.covid_deaths, label='covid deaths (right y-axis)', color=palette[0])\n",
    "\n",
    "ax1.set_xticks(df.index[[1, 3, 5, 7, 9, 11]], )\n",
    "ax1.tick_params(axis='both', which='major', labelsize=12)\n",
    "ax2.tick_params(axis='both', which='major', labelsize=12)\n",
    "\n",
    "ax1.set_ylabel('total deaths', size=12)\n",
    "ax2.set_ylabel('covid deaths', size=12)\n",
    "\n",
    "ax1.legend(loc='upper left', fontsize=12, bbox_to_anchor=(0, 0.2, 0.1, 0.78))\n",
    "ax2.legend(loc='upper left', fontsize=12, bbox_to_anchor=(0, 0.1, 0.1, 0.05))\n",
    "\n",
    "plt.show()"
   ]
  },
  {
   "cell_type": "markdown",
   "metadata": {},
   "source": [
    "This graph shows that, in 2020, just as the number of reported Covid-19 deaths starts to rise to become detectable in the all-cause mortality data, the total number of deaths first stays flat, then plummets. Similarly, pfficial covid-19 deaths plummet. \n",
    "Hence it is quite early to analyse the US as a whole. An analysis may be justifiable until April 11th (the end of week 15). A similar point can be made by comparing the total number of death per week for 2020 to the previous years. "
   ]
  },
  {
   "cell_type": "code",
   "execution_count": 17,
   "metadata": {},
   "outputs": [
    {
     "data": {
      "image/png": "[encoded data removed]",
      "text/plain": [
       "<Figure size 720x432 with 1 Axes>"
      ]
     },
     "metadata": {
      "needs_background": "light"
     },
     "output_type": "display_data"
    }
   ],
   "source": [
    "df = nat[['year', 'week', 'total_deaths']].copy(deep=True)\n",
    "for yr in range(2014, 2021):\n",
    "    dfy = df[df.year == yr][['week', 'total_deaths']].reset_index(drop=True).copy(deep=True)\n",
    "    dfy.columns = ['week', '{}'.format(yr)]\n",
    "    if yr == 2014:\n",
    "        dfall = dfy\n",
    "    else:\n",
    "        dfall = pd.merge(dfall, dfy, on=['week'], how='outer')\n",
    "df = dfall[(~pd.isnull(dfall['2020'])) & (dfall.week >= 8)].sort_values(['week']).reset_index(drop=True).copy(deep=True)\n",
    "df.index = df.week\n",
    "del df['week']\n",
    "df.plot(figsize=(10, 6))\n",
    "plt.ylabel('total deaths', size=12)\n",
    "plt.xlabel('week', size=12)\n",
    "plt.legend(fontsize=12)\n",
    "plt.tick_params(axis='both', which='major', labelsize=12)\n",
    "plt.show()"
   ]
  },
  {
   "cell_type": "markdown",
   "metadata": {},
   "source": [
    "# 2. Running the analysis for the US"
   ]
  },
  {
   "cell_type": "code",
   "execution_count": 18,
   "metadata": {},
   "outputs": [],
   "source": [
    "df = nat[['year', 'week', 'total_deaths']].copy(deep=True)\n",
    "df.index = [df.week, df.year]\n",
    "df = df.drop(['year', 'week'], axis=1)\n",
    "df = df.unstack().reset_index(drop=False)\n",
    "df.columns = ['week'] + ['{}'.format(yr) for yr in range(2013, 2021)]\n",
    "df = df[['week'] +  ['{}'.format(yr) for yr in range(2015, 2021)] ][~pd.isnull(df['2020'])]\n",
    "df = pd.merge(df, nat[nat.year==2020], on='week', how='left')\n",
    "df = df[(df.week >= 8) & (df.week <= 15)].reset_index(drop=True).copy(deep=True)\n",
    "df['date'] = df.year.astype('str') + '-' + df.date.str[:2] + '-' + df.date.str[3:5]\n",
    "df['date']  =  pd.to_datetime(df['date'] , format='%Y-%m-%d', errors='ignore')\n",
    "del df['total_deaths']"
   ]
  },
  {
   "cell_type": "markdown",
   "metadata": {},
   "source": [
    "computing cumulative sums"
   ]
  },
  {
   "cell_type": "code",
   "execution_count": 19,
   "metadata": {},
   "outputs": [],
   "source": [
    "for yr in range(2015, 2021):\n",
    "    df['cs_{}'.format(yr)] = df['{}'.format(yr)].cumsum()\n",
    "    del df['{}'.format(yr)]"
   ]
  },
  {
   "cell_type": "markdown",
   "metadata": {},
   "source": [
    "computing weekly growth rates"
   ]
  },
  {
   "cell_type": "code",
   "execution_count": 20,
   "metadata": {},
   "outputs": [],
   "source": [
    "for yr in range(2015, 2020):\n",
    "    df['gr_{}'.format(yr)] = df['cs_{}'.format(yr)] / df['cs_{}'.format(yr)].shift(1)\n",
    "    del df['cs_{}'.format(yr)]"
   ]
  },
  {
   "cell_type": "markdown",
   "metadata": {},
   "source": [
    "computing average of daily growth rates 15-19"
   ]
  },
  {
   "cell_type": "code",
   "execution_count": 21,
   "metadata": {},
   "outputs": [],
   "source": [
    "df['weekly_growth'] = df.loc[:,['gr_{}'.format(yr) for yr in range(2015,2020)]].mean(axis=1)\n",
    "df = df.drop(['gr_{}'.format(yr) for yr in range(2015,2020)], axis=1)"
   ]
  },
  {
   "cell_type": "markdown",
   "metadata": {},
   "source": [
    "extrapolating forward"
   ]
  },
  {
   "cell_type": "code",
   "execution_count": 22,
   "metadata": {},
   "outputs": [],
   "source": [
    "df['counterfactual'] = 0\n",
    "df.loc[0,'counterfactual'] = df.loc[df.week==8,'cs_2020'].values[0]"
   ]
  },
  {
   "cell_type": "code",
   "execution_count": 23,
   "metadata": {},
   "outputs": [],
   "source": [
    "for i in range(1, df.shape[0]):\n",
    "    df.loc[i,'counterfactual'] = df.loc[i-1,'counterfactual'] * df.loc[i,'weekly_growth']"
   ]
  },
  {
   "cell_type": "code",
   "execution_count": 24,
   "metadata": {},
   "outputs": [],
   "source": [
    "df = df.drop(['weekly_growth'], axis=1)"
   ]
  },
  {
   "cell_type": "code",
   "execution_count": 25,
   "metadata": {},
   "outputs": [],
   "source": [
    "df['counterfactual_2020_covid'] = df.counterfactual + df.covid_deaths.cumsum()\n",
    "df = df.drop(['covid_deaths', 'week'], axis=1)\n",
    "df.index = df.date\n",
    "del df['date']\n",
    "del df['year']"
   ]
  },
  {
   "cell_type": "code",
   "execution_count": 26,
   "metadata": {},
   "outputs": [
    {
     "data": {
      "image/png": "[encoded data removed]",
      "text/plain": [
       "<Figure size 720x432 with 1 Axes>"
      ]
     },
     "metadata": {
      "needs_background": "light"
     },
     "output_type": "display_data"
    }
   ],
   "source": [
    "palette = sns.color_palette()\n",
    "\n",
    "f = plt.figure(figsize=(10,6))\n",
    "ax = plt.subplot(1,1,1)\n",
    "\n",
    "ax.plot(df.index,\n",
    "        df['cs_2020'],\n",
    "        label='2020',\n",
    "        color='black')\n",
    "ax.plot(df.index,\n",
    "        df['counterfactual_2020_covid'],\n",
    "        label='2020 counterfactual with only Covid-19 official deaths',\n",
    "        color = palette[1])\n",
    "ax.plot(df.index,\n",
    "        df['counterfactual'],\n",
    "        label='2020 counterfactual without Covid-19',\n",
    "        color='black', \n",
    "        linestyle = '--')\n",
    "\n",
    "ax.set_xticks(df.index[[1,3,5,7]])\n",
    "ax.fill_between(df.index, df['cs_2020'], df['counterfactual_2020_covid'], color='black', alpha='0.2')\n",
    "ax.fill_between(df.index, df['counterfactual_2020_covid'], df['counterfactual'], color='green', alpha='0.2')\n",
    "\n",
    "ax.set_ylabel('Cumulative number of deaths since\\nweek ending February 22nd',size=12)\n",
    "ax.tick_params(axis='both', which='major', labelsize=12)\n",
    "\n",
    "ax.legend(loc='upper left',\n",
    "          fontsize=12)\n",
    "\n",
    "plot_margin = 3\n",
    "\n",
    "x0, x1, y0, y1 = plt.axis()\n",
    "plt.axis((x0,\n",
    "          x1 + plot_margin,\n",
    "          y0,\n",
    "          y1))\n",
    "\n",
    "plt.text(0.919, 0.88, '{}'.format(int(round(df.iloc[-1, 2] - df.iloc[-1, 1]))),\n",
    "         bbox=dict(facecolor=palette[1], alpha=0.2), size=12, transform=ax.transAxes)\n",
    "\n",
    "\n",
    "plt.text(0.919, 0.95, '{}'.format(int(round(df.iloc[-1, 0] - df.iloc[-1, 2]))),\n",
    "         bbox=dict(facecolor='black', alpha=0.2), size=12, transform=ax.transAxes)\n",
    "\n",
    "\n",
    "plt.show()\n",
    "\n",
    "f.savefig('_usa.pdf', bbox_inches='tight', dpi=100)"
   ]
  },
  {
   "cell_type": "markdown",
   "metadata": {},
   "source": [
    "# 3.Running the analysis for NYC"
   ]
  },
  {
   "cell_type": "markdown",
   "metadata": {},
   "source": [
    "## 3.1 Getting the fluview data for NYC"
   ]
  },
  {
   "cell_type": "code",
   "execution_count": 27,
   "metadata": {},
   "outputs": [],
   "source": [
    "fluview_nyc = pd.read_csv('./data/State_Custom_Data.csv')[['SUB AREA', 'SEASON', 'WEEK', 'TOTAL DEATHS', 'PERCENT COMPLETE']]"
   ]
  },
  {
   "cell_type": "code",
   "execution_count": 28,
   "metadata": {},
   "outputs": [],
   "source": [
    "fluview_nyc = fluview_nyc[fluview_nyc['SUB AREA'] == 'New York City']\\\n",
    "              [['SEASON', 'WEEK', 'TOTAL DEATHS', 'PERCENT COMPLETE']]\\\n",
    "              .reset_index(drop=True).copy(deep=True)\n",
    "\n",
    "fluview_nyc['y1'] = fluview_nyc['SEASON'].str[:4]\n",
    "fluview_nyc['y2'] = '20' + fluview_nyc['SEASON'].str[5:]\n",
    "fluview_nyc['year'] = '0'\n",
    "fluview_nyc.loc[fluview_nyc.WEEK >= 40, 'year'] = fluview_nyc.y1\n",
    "fluview_nyc.loc[fluview_nyc.WEEK < 40, 'year'] = fluview_nyc.y2\n",
    "fluview_nyc['complete'] = fluview_nyc['PERCENT COMPLETE'].apply(lambda x: re.search('([0-9]+.*?[0-9])', x).group(1))\n",
    "fluview_nyc['total_deaths'] = fluview_nyc['TOTAL DEATHS'].apply(lambda x: re.sub(',', '', x)).astype('int')\n",
    "fluview_nyc = fluview_nyc[['year', 'WEEK', 'complete', 'total_deaths']]\n",
    "fluview_nyc.columns = ['year', 'week', 'complete', 'total_deaths']\n",
    "fluview_nyc = fluview_nyc.sort_values(['year', 'week']).reset_index(drop=True).copy(deep=True)\n",
    "fluview_nyc['year'] = fluview_nyc['year'].astype('int')"
   ]
  },
  {
   "cell_type": "code",
   "execution_count": 29,
   "metadata": {},
   "outputs": [
    {
     "data": {
      "text/html": [
       "<div>\n",
       "<style scoped>\n",
       "    .dataframe tbody tr th:only-of-type {\n",
       "        vertical-align: middle;\n",
       "    }\n",
       "\n",
       "    .dataframe tbody tr th {\n",
       "        vertical-align: top;\n",
       "    }\n",
       "\n",
       "    .dataframe thead th {\n",
       "        text-align: right;\n",
       "    }\n",
       "</style>\n",
       "<table border=\"1\" class=\"dataframe\">\n",
       "  <thead>\n",
       "    <tr style=\"text-align: right;\">\n",
       "      <th></th>\n",
       "      <th>year</th>\n",
       "      <th>week</th>\n",
       "      <th>complete</th>\n",
       "      <th>total_deaths</th>\n",
       "    </tr>\n",
       "  </thead>\n",
       "  <tbody>\n",
       "    <tr>\n",
       "      <th>0</th>\n",
       "      <td>2013</td>\n",
       "      <td>1</td>\n",
       "      <td>85.7</td>\n",
       "      <td>873</td>\n",
       "    </tr>\n",
       "    <tr>\n",
       "      <th>1</th>\n",
       "      <td>2013</td>\n",
       "      <td>2</td>\n",
       "      <td>100</td>\n",
       "      <td>1292</td>\n",
       "    </tr>\n",
       "    <tr>\n",
       "      <th>2</th>\n",
       "      <td>2013</td>\n",
       "      <td>3</td>\n",
       "      <td>100</td>\n",
       "      <td>1214</td>\n",
       "    </tr>\n",
       "    <tr>\n",
       "      <th>3</th>\n",
       "      <td>2013</td>\n",
       "      <td>4</td>\n",
       "      <td>100</td>\n",
       "      <td>1252</td>\n",
       "    </tr>\n",
       "    <tr>\n",
       "      <th>4</th>\n",
       "      <td>2013</td>\n",
       "      <td>5</td>\n",
       "      <td>100</td>\n",
       "      <td>1231</td>\n",
       "    </tr>\n",
       "    <tr>\n",
       "      <th>...</th>\n",
       "      <td>...</td>\n",
       "      <td>...</td>\n",
       "      <td>...</td>\n",
       "      <td>...</td>\n",
       "    </tr>\n",
       "    <tr>\n",
       "      <th>376</th>\n",
       "      <td>2020</td>\n",
       "      <td>12</td>\n",
       "      <td>100</td>\n",
       "      <td>1367</td>\n",
       "    </tr>\n",
       "    <tr>\n",
       "      <th>377</th>\n",
       "      <td>2020</td>\n",
       "      <td>13</td>\n",
       "      <td>100</td>\n",
       "      <td>2602</td>\n",
       "    </tr>\n",
       "    <tr>\n",
       "      <th>378</th>\n",
       "      <td>2020</td>\n",
       "      <td>14</td>\n",
       "      <td>100</td>\n",
       "      <td>5336</td>\n",
       "    </tr>\n",
       "    <tr>\n",
       "      <th>379</th>\n",
       "      <td>2020</td>\n",
       "      <td>15</td>\n",
       "      <td>100</td>\n",
       "      <td>5889</td>\n",
       "    </tr>\n",
       "    <tr>\n",
       "      <th>380</th>\n",
       "      <td>2020</td>\n",
       "      <td>16</td>\n",
       "      <td>100</td>\n",
       "      <td>2777</td>\n",
       "    </tr>\n",
       "  </tbody>\n",
       "</table>\n",
       "<p>381 rows × 4 columns</p>\n",
       "</div>"
      ],
      "text/plain": [
       "     year  week complete  total_deaths\n",
       "0    2013     1     85.7           873\n",
       "1    2013     2      100          1292\n",
       "2    2013     3      100          1214\n",
       "3    2013     4      100          1252\n",
       "4    2013     5      100          1231\n",
       "..    ...   ...      ...           ...\n",
       "376  2020    12      100          1367\n",
       "377  2020    13      100          2602\n",
       "378  2020    14      100          5336\n",
       "379  2020    15      100          5889\n",
       "380  2020    16      100          2777\n",
       "\n",
       "[381 rows x 4 columns]"
      ]
     },
     "execution_count": 29,
     "metadata": {},
     "output_type": "execute_result"
    }
   ],
   "source": [
    "fluview_nyc"
   ]
  },
  {
   "cell_type": "markdown",
   "metadata": {},
   "source": [
    "Note that the data for week 16 are 100% complete. So we can use these data to run our analysis."
   ]
  },
  {
   "cell_type": "code",
   "execution_count": 30,
   "metadata": {},
   "outputs": [],
   "source": [
    "df = fluview_nyc[['year', 'week', 'total_deaths']].copy(deep=True)\n",
    "df.index = [fluview_nyc.week, fluview_nyc.year]\n",
    "df = df.drop(['year', 'week'], axis=1)\n",
    "df = df.unstack()\n",
    "df.columns = df.columns.droplevel()\n",
    "df.reset_index(inplace=True)\n",
    "df.columns = ['week'] + ['{}'.format(yr) for yr in range(2013, 2021)]\n",
    "df = df[['week'] + ['{}'.format(yr) for yr in range(2015, 2021)]]\n",
    "df = df[~pd.isnull(df['2020'])]"
   ]
  },
  {
   "cell_type": "markdown",
   "metadata": {},
   "source": [
    "First covid death in NYC is week 11 $\\to$ discard all dates prior to week 10"
   ]
  },
  {
   "cell_type": "code",
   "execution_count": 31,
   "metadata": {},
   "outputs": [],
   "source": [
    "df = df[df.week >= 10].reset_index(drop=True).copy(deep=True)"
   ]
  },
  {
   "cell_type": "markdown",
   "metadata": {},
   "source": [
    "computing cumulative sums"
   ]
  },
  {
   "cell_type": "code",
   "execution_count": 32,
   "metadata": {},
   "outputs": [],
   "source": [
    "for yr in range(2015, 2021):\n",
    "    df['cs_{}'.format(yr)] = df['{}'.format(yr)].cumsum()\n",
    "    del df['{}'.format(yr)]"
   ]
  },
  {
   "cell_type": "markdown",
   "metadata": {},
   "source": [
    "computing growth rates 2015-2019"
   ]
  },
  {
   "cell_type": "code",
   "execution_count": 33,
   "metadata": {},
   "outputs": [],
   "source": [
    "for yr in range(2015, 2020):\n",
    "    df['gr_{}'.format(yr)] = df['cs_{}'.format(yr)] / df['cs_{}'.format(yr)].shift(1)\n",
    "    del df['cs_{}'.format(yr)]"
   ]
  },
  {
   "cell_type": "markdown",
   "metadata": {},
   "source": [
    "computing average of weekly growth rates 15-19"
   ]
  },
  {
   "cell_type": "code",
   "execution_count": 34,
   "metadata": {},
   "outputs": [],
   "source": [
    "df['weekly_growth'] = df.loc[:,['gr_{}'.format(yr) for yr in range(2015,2020)]].mean(axis=1)\n",
    "df = df.drop(['gr_{}'.format(yr) for yr in range(2015,2020)], axis=1)"
   ]
  },
  {
   "cell_type": "markdown",
   "metadata": {},
   "source": [
    "extrapolating forward"
   ]
  },
  {
   "cell_type": "code",
   "execution_count": 35,
   "metadata": {},
   "outputs": [],
   "source": [
    "df['counterfactual'] = 0\n",
    "df.loc[0,'counterfactual'] = df.loc[df.week==10,'cs_2020'].values[0]"
   ]
  },
  {
   "cell_type": "code",
   "execution_count": 36,
   "metadata": {},
   "outputs": [],
   "source": [
    "for i in range(1, df.shape[0]):\n",
    "    df.loc[i,'counterfactual'] = df.loc[i-1,'counterfactual'] * df.loc[i,'weekly_growth']"
   ]
  },
  {
   "cell_type": "code",
   "execution_count": 37,
   "metadata": {},
   "outputs": [],
   "source": [
    "df = df.drop(['weekly_growth'], axis=1)"
   ]
  },
  {
   "cell_type": "markdown",
   "metadata": {},
   "source": [
    "## 3.2 Getting the Covid-19 data for NYC"
   ]
  },
  {
   "cell_type": "markdown",
   "metadata": {},
   "source": [
    "## 3.2.1 Assigning to the right CDC-week\n",
    "\n",
    "CDC has weeks ending on Saturday (e.g. week ending March 28th)."
   ]
  },
  {
   "cell_type": "code",
   "execution_count": 38,
   "metadata": {},
   "outputs": [],
   "source": [
    "cal = pd.read_csv('./data/day_month_week_2020_cdc.csv')"
   ]
  },
  {
   "cell_type": "code",
   "execution_count": 39,
   "metadata": {},
   "outputs": [],
   "source": [
    "official = pd.read_csv('./data/data-4SfjZ.csv')"
   ]
  },
  {
   "cell_type": "code",
   "execution_count": 40,
   "metadata": {},
   "outputs": [],
   "source": [
    "official.columns = ['date', 'cases', 'hosp', 'covid_deaths']\n",
    "official = official[['date', 'covid_deaths']]\n",
    "official = official.fillna(0)\n",
    "official['covid_deaths'] = official.covid_deaths\n",
    "official['day'] = official.date.apply(lambda x: re.search('[0-9]+/([0-9]+)/', x).group(1)).astype('int')\n",
    "official['month'] = official.date.apply(lambda x: re.search('([0-9]+)/[0-9]+/', x).group(1)).astype('int')\n",
    "official = pd.merge(official, cal, on=['month', 'day'], how='inner')\n",
    "official = official[['week', 'covid_deaths']].groupby('week').sum().reset_index(drop=False).copy(deep=True)"
   ]
  },
  {
   "cell_type": "code",
   "execution_count": 41,
   "metadata": {},
   "outputs": [],
   "source": [
    "cal['dyr'] = np.arange(1,cal.shape[0]+1)\n",
    "cal['maxd'] = cal[['dyr', 'week']].groupby('week').transform(max)\n",
    "cal = cal[cal.dyr == cal.maxd][['day', 'month', 'week']].reset_index(drop=True).copy(deep=True)\n",
    "cal['day'] = ('0' + cal.day.astype('str')).str[-2:]\n",
    "cal['month'] = '0' + cal.month.astype('str')\n",
    "cal['date'] = '2020-' + cal.month + '-' + cal.day\n",
    "cal = cal.drop(['day', 'month'], axis=1)"
   ]
  },
  {
   "cell_type": "code",
   "execution_count": 42,
   "metadata": {},
   "outputs": [],
   "source": [
    "official = pd.merge(official, cal, on='week', how='left')\n",
    "official['covid_deaths'] = official.covid_deaths.cumsum()"
   ]
  },
  {
   "cell_type": "markdown",
   "metadata": {},
   "source": [
    "# 3.3 Merging and plotting"
   ]
  },
  {
   "cell_type": "code",
   "execution_count": 43,
   "metadata": {},
   "outputs": [],
   "source": [
    "df = pd.merge(df, official, on = 'week', how='left')\n",
    "df['counterfactual_2020_covid'] = df.counterfactual + df.covid_deaths\n",
    "del df['covid_deaths']\n",
    "del df['week']\n",
    "df.index = df.date\n",
    "del df['date']"
   ]
  },
  {
   "cell_type": "code",
   "execution_count": 44,
   "metadata": {},
   "outputs": [
    {
     "data": {
      "image/png": "[encoded data removed]",
      "text/plain": [
       "<Figure size 720x432 with 1 Axes>"
      ]
     },
     "metadata": {
      "needs_background": "light"
     },
     "output_type": "display_data"
    }
   ],
   "source": [
    "palette = sns.color_palette()\n",
    "\n",
    "f = plt.figure(figsize=(10,6))\n",
    "ax = plt.subplot(1,1,1)\n",
    "\n",
    "ax.plot(df.index,\n",
    "        df['cs_2020'],\n",
    "        label='2020',\n",
    "        color='black')\n",
    "ax.plot(df.index,\n",
    "        df['counterfactual_2020_covid'],\n",
    "        label='2020 counterfactual with only Covid-19 official deaths',\n",
    "        color = palette[1])\n",
    "ax.plot(df.index,\n",
    "        df['counterfactual'],\n",
    "        label='2020 counterfactual without Covid-19',\n",
    "        color='black', \n",
    "        linestyle = '--')\n",
    "\n",
    "ax.set_xticks(df.index[[0,1,2,3,4,5,6]])\n",
    "ax.fill_between(df.index, df['cs_2020'], df['counterfactual_2020_covid'], color='black', alpha='0.2')\n",
    "ax.fill_between(df.index, df['counterfactual_2020_covid'], df['counterfactual'], color='green', alpha='0.2')\n",
    "\n",
    "ax.set_ylabel('Cumulative number of deaths since\\nweek ending March 7th',size=12)\n",
    "ax.tick_params(axis='both', which='major', labelsize=12)\n",
    "\n",
    "ax.legend(loc='upper left',\n",
    "          fontsize=12)\n",
    "\n",
    "plot_margin = 0.3\n",
    "\n",
    "x0, x1, y0, y1 = plt.axis()\n",
    "plt.axis((x0,\n",
    "          x1 + plot_margin,\n",
    "          y0,\n",
    "          y1))\n",
    "\n",
    "plt.text(6.12, 12500, '{}'.format(int(round(df.iloc[-1, 2] - df.iloc[-1, 1]))),\n",
    "         bbox=dict(facecolor=palette[1], alpha=0.2), size=12)\n",
    "\n",
    "\n",
    "plt.text(6.12, 18500, '{}'.format(int(round(df.iloc[-1, 0] - df.iloc[-1, 2]))),\n",
    "         bbox=dict(facecolor='black', alpha=0.2), size=12)\n",
    "\n",
    "plt.show()\n",
    "\n",
    "f.savefig('_new_york_city.pdf', bbox_inches='tight', dpi=100)"
   ]
  },
  {
   "cell_type": "code",
   "execution_count": 45,
   "metadata": {},
   "outputs": [
    {
     "name": "stdout",
     "output_type": "stream",
     "text": [
      "Official covid-deaths: 9712.0 = green - dashed black\n",
      "Excess deaths: 12788.0 = solid black - dashed black\n",
      "Unexplained excess deaths: 3076.0 = solid black - green\n"
     ]
    }
   ],
   "source": [
    "print('Official covid-deaths: {} = green - dashed black'.format(round(df.iloc[-1, 2] - df.iloc[-1, 1])))\n",
    "print('Excess deaths: {} = solid black - dashed black'.format(round(df.iloc[-1, 0] - df.iloc[-1, 1])))\n",
    "print('Unexplained excess deaths: {} = solid black - green'.format(round(df.iloc[-1, 0] - df.iloc[-1, 2])))"
   ]
  }
 ],
 "metadata": {
  "kernelspec": {
   "display_name": "Python 3",
   "language": "python",
   "name": "python3"
  },
  "language_info": {
   "codemirror_mode": {
    "name": "ipython",
    "version": 3
   },
   "file_extension": ".py",
   "mimetype": "text/x-python",
   "name": "python",
   "nbconvert_exporter": "python",
   "pygments_lexer": "ipython3",
   "version": "3.6.9"
  }
 },
 "nbformat": 4,
 "nbformat_minor": 4
}
